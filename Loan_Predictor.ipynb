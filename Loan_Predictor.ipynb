{
 "cells": [
  {
   "cell_type": "markdown",
   "metadata": {},
   "source": [
    "## Problem Statement/Goal\n",
    " - (The problem statement below was copied, unedited, from [the contest page](https://www.analyticsvidhya.com/blog/2018/05/24-ultimate-data-science-projects-to-boost-your-knowledge-and-skills/))\n",
    "\n",
    " - Company wants to automate the loan eligibility process (real time) based on customer detail provided while filling online application form. These details are Gender, Marital Status, Education, Number of Dependents, Income, Loan Amount, Credit History and others. To automate this process, they have given a problem to identify the customers segments, those are eligible for loan amount so that they can specifically target these customers. Here they have provided a partial data set."
   ]
  },
  {
   "cell_type": "markdown",
   "metadata": {},
   "source": [
    "## Imports"
   ]
  },
  {
   "cell_type": "code",
   "execution_count": 2,
   "metadata": {},
   "outputs": [],
   "source": [
    "import pandas as pd\n",
    "import matplotlib.pyplot as plt\n",
    "import seaborn as sns\n",
    "import numpy as np\n",
    "%matplotlib inline\n",
    "from warnings import filterwarnings"
   ]
  },
  {
   "cell_type": "markdown",
   "metadata": {},
   "source": [
    "## Data Collection"
   ]
  },
  {
   "cell_type": "code",
   "execution_count": 3,
   "metadata": {},
   "outputs": [],
   "source": [
    "# data was obtained at https://datahack.analyticsvidhya.com/contest/practice-problem-loan-prediction-iii/\n",
    "test_df  = pd.read_csv('./data/test_Y3wMUE5_7gLdaTN.csv')\n",
    "raw_df = pd.read_csv('./data/train_u6lujuX_CVtuZ9i.csv')"
   ]
  },
  {
   "cell_type": "markdown",
   "metadata": {},
   "source": [
    "## Initial Viewing of Data"
   ]
  },
  {
   "cell_type": "code",
   "execution_count": 4,
   "metadata": {},
   "outputs": [
    {
     "data": {
      "text/html": [
       "<div>\n",
       "<style scoped>\n",
       "    .dataframe tbody tr th:only-of-type {\n",
       "        vertical-align: middle;\n",
       "    }\n",
       "\n",
       "    .dataframe tbody tr th {\n",
       "        vertical-align: top;\n",
       "    }\n",
       "\n",
       "    .dataframe thead th {\n",
       "        text-align: right;\n",
       "    }\n",
       "</style>\n",
       "<table border=\"1\" class=\"dataframe\">\n",
       "  <thead>\n",
       "    <tr style=\"text-align: right;\">\n",
       "      <th></th>\n",
       "      <th>Loan_ID</th>\n",
       "      <th>Gender</th>\n",
       "      <th>Married</th>\n",
       "      <th>Dependents</th>\n",
       "      <th>Education</th>\n",
       "      <th>Self_Employed</th>\n",
       "      <th>ApplicantIncome</th>\n",
       "      <th>CoapplicantIncome</th>\n",
       "      <th>LoanAmount</th>\n",
       "      <th>Loan_Amount_Term</th>\n",
       "      <th>Credit_History</th>\n",
       "      <th>Property_Area</th>\n",
       "      <th>Loan_Status</th>\n",
       "    </tr>\n",
       "  </thead>\n",
       "  <tbody>\n",
       "    <tr>\n",
       "      <th>0</th>\n",
       "      <td>LP001002</td>\n",
       "      <td>Male</td>\n",
       "      <td>No</td>\n",
       "      <td>0</td>\n",
       "      <td>Graduate</td>\n",
       "      <td>No</td>\n",
       "      <td>5849</td>\n",
       "      <td>0.0</td>\n",
       "      <td>NaN</td>\n",
       "      <td>360.0</td>\n",
       "      <td>1.0</td>\n",
       "      <td>Urban</td>\n",
       "      <td>Y</td>\n",
       "    </tr>\n",
       "    <tr>\n",
       "      <th>1</th>\n",
       "      <td>LP001003</td>\n",
       "      <td>Male</td>\n",
       "      <td>Yes</td>\n",
       "      <td>1</td>\n",
       "      <td>Graduate</td>\n",
       "      <td>No</td>\n",
       "      <td>4583</td>\n",
       "      <td>1508.0</td>\n",
       "      <td>128.0</td>\n",
       "      <td>360.0</td>\n",
       "      <td>1.0</td>\n",
       "      <td>Rural</td>\n",
       "      <td>N</td>\n",
       "    </tr>\n",
       "    <tr>\n",
       "      <th>2</th>\n",
       "      <td>LP001005</td>\n",
       "      <td>Male</td>\n",
       "      <td>Yes</td>\n",
       "      <td>0</td>\n",
       "      <td>Graduate</td>\n",
       "      <td>Yes</td>\n",
       "      <td>3000</td>\n",
       "      <td>0.0</td>\n",
       "      <td>66.0</td>\n",
       "      <td>360.0</td>\n",
       "      <td>1.0</td>\n",
       "      <td>Urban</td>\n",
       "      <td>Y</td>\n",
       "    </tr>\n",
       "    <tr>\n",
       "      <th>3</th>\n",
       "      <td>LP001006</td>\n",
       "      <td>Male</td>\n",
       "      <td>Yes</td>\n",
       "      <td>0</td>\n",
       "      <td>Not Graduate</td>\n",
       "      <td>No</td>\n",
       "      <td>2583</td>\n",
       "      <td>2358.0</td>\n",
       "      <td>120.0</td>\n",
       "      <td>360.0</td>\n",
       "      <td>1.0</td>\n",
       "      <td>Urban</td>\n",
       "      <td>Y</td>\n",
       "    </tr>\n",
       "    <tr>\n",
       "      <th>4</th>\n",
       "      <td>LP001008</td>\n",
       "      <td>Male</td>\n",
       "      <td>No</td>\n",
       "      <td>0</td>\n",
       "      <td>Graduate</td>\n",
       "      <td>No</td>\n",
       "      <td>6000</td>\n",
       "      <td>0.0</td>\n",
       "      <td>141.0</td>\n",
       "      <td>360.0</td>\n",
       "      <td>1.0</td>\n",
       "      <td>Urban</td>\n",
       "      <td>Y</td>\n",
       "    </tr>\n",
       "  </tbody>\n",
       "</table>\n",
       "</div>"
      ],
      "text/plain": [
       "    Loan_ID Gender Married Dependents     Education Self_Employed  \\\n",
       "0  LP001002   Male      No          0      Graduate            No   \n",
       "1  LP001003   Male     Yes          1      Graduate            No   \n",
       "2  LP001005   Male     Yes          0      Graduate           Yes   \n",
       "3  LP001006   Male     Yes          0  Not Graduate            No   \n",
       "4  LP001008   Male      No          0      Graduate            No   \n",
       "\n",
       "   ApplicantIncome  CoapplicantIncome  LoanAmount  Loan_Amount_Term  \\\n",
       "0             5849                0.0         NaN             360.0   \n",
       "1             4583             1508.0       128.0             360.0   \n",
       "2             3000                0.0        66.0             360.0   \n",
       "3             2583             2358.0       120.0             360.0   \n",
       "4             6000                0.0       141.0             360.0   \n",
       "\n",
       "   Credit_History Property_Area Loan_Status  \n",
       "0             1.0         Urban           Y  \n",
       "1             1.0         Rural           N  \n",
       "2             1.0         Urban           Y  \n",
       "3             1.0         Urban           Y  \n",
       "4             1.0         Urban           Y  "
      ]
     },
     "execution_count": 4,
     "metadata": {},
     "output_type": "execute_result"
    }
   ],
   "source": [
    "raw_df.head()"
   ]
  },
  {
   "cell_type": "code",
   "execution_count": 5,
   "metadata": {},
   "outputs": [
    {
     "data": {
      "text/plain": [
       "Loan_ID               0\n",
       "Gender               13\n",
       "Married               3\n",
       "Dependents           15\n",
       "Education             0\n",
       "Self_Employed        32\n",
       "ApplicantIncome       0\n",
       "CoapplicantIncome     0\n",
       "LoanAmount           22\n",
       "Loan_Amount_Term     14\n",
       "Credit_History       50\n",
       "Property_Area         0\n",
       "Loan_Status           0\n",
       "dtype: int64"
      ]
     },
     "execution_count": 5,
     "metadata": {},
     "output_type": "execute_result"
    }
   ],
   "source": [
    "raw_df.isnull().sum()"
   ]
  },
  {
   "cell_type": "code",
   "execution_count": 6,
   "metadata": {},
   "outputs": [
    {
     "data": {
      "text/html": [
       "<div>\n",
       "<style scoped>\n",
       "    .dataframe tbody tr th:only-of-type {\n",
       "        vertical-align: middle;\n",
       "    }\n",
       "\n",
       "    .dataframe tbody tr th {\n",
       "        vertical-align: top;\n",
       "    }\n",
       "\n",
       "    .dataframe thead th {\n",
       "        text-align: right;\n",
       "    }\n",
       "</style>\n",
       "<table border=\"1\" class=\"dataframe\">\n",
       "  <thead>\n",
       "    <tr style=\"text-align: right;\">\n",
       "      <th></th>\n",
       "      <th>Loan_ID</th>\n",
       "      <th>Gender</th>\n",
       "      <th>Married</th>\n",
       "      <th>Dependents</th>\n",
       "      <th>Education</th>\n",
       "      <th>Self_Employed</th>\n",
       "      <th>ApplicantIncome</th>\n",
       "      <th>CoapplicantIncome</th>\n",
       "      <th>LoanAmount</th>\n",
       "      <th>Loan_Amount_Term</th>\n",
       "      <th>Credit_History</th>\n",
       "      <th>Property_Area</th>\n",
       "      <th>Loan_Status</th>\n",
       "    </tr>\n",
       "  </thead>\n",
       "  <tbody>\n",
       "    <tr>\n",
       "      <th>188</th>\n",
       "      <td>LP001644</td>\n",
       "      <td>NaN</td>\n",
       "      <td>Yes</td>\n",
       "      <td>0</td>\n",
       "      <td>Graduate</td>\n",
       "      <td>Yes</td>\n",
       "      <td>674</td>\n",
       "      <td>5296.0</td>\n",
       "      <td>168.0</td>\n",
       "      <td>360.0</td>\n",
       "      <td>1.0</td>\n",
       "      <td>Rural</td>\n",
       "      <td>Y</td>\n",
       "    </tr>\n",
       "    <tr>\n",
       "      <th>216</th>\n",
       "      <td>LP001722</td>\n",
       "      <td>Male</td>\n",
       "      <td>Yes</td>\n",
       "      <td>0</td>\n",
       "      <td>Graduate</td>\n",
       "      <td>No</td>\n",
       "      <td>150</td>\n",
       "      <td>1800.0</td>\n",
       "      <td>135.0</td>\n",
       "      <td>360.0</td>\n",
       "      <td>1.0</td>\n",
       "      <td>Rural</td>\n",
       "      <td>N</td>\n",
       "    </tr>\n",
       "    <tr>\n",
       "      <th>468</th>\n",
       "      <td>LP002502</td>\n",
       "      <td>Female</td>\n",
       "      <td>Yes</td>\n",
       "      <td>2</td>\n",
       "      <td>Not Graduate</td>\n",
       "      <td>NaN</td>\n",
       "      <td>210</td>\n",
       "      <td>2917.0</td>\n",
       "      <td>98.0</td>\n",
       "      <td>360.0</td>\n",
       "      <td>1.0</td>\n",
       "      <td>Semiurban</td>\n",
       "      <td>Y</td>\n",
       "    </tr>\n",
       "    <tr>\n",
       "      <th>500</th>\n",
       "      <td>LP002603</td>\n",
       "      <td>Female</td>\n",
       "      <td>No</td>\n",
       "      <td>0</td>\n",
       "      <td>Graduate</td>\n",
       "      <td>No</td>\n",
       "      <td>645</td>\n",
       "      <td>3683.0</td>\n",
       "      <td>113.0</td>\n",
       "      <td>480.0</td>\n",
       "      <td>1.0</td>\n",
       "      <td>Rural</td>\n",
       "      <td>Y</td>\n",
       "    </tr>\n",
       "    <tr>\n",
       "      <th>600</th>\n",
       "      <td>LP002949</td>\n",
       "      <td>Female</td>\n",
       "      <td>No</td>\n",
       "      <td>3+</td>\n",
       "      <td>Graduate</td>\n",
       "      <td>NaN</td>\n",
       "      <td>416</td>\n",
       "      <td>41667.0</td>\n",
       "      <td>350.0</td>\n",
       "      <td>180.0</td>\n",
       "      <td>NaN</td>\n",
       "      <td>Urban</td>\n",
       "      <td>N</td>\n",
       "    </tr>\n",
       "  </tbody>\n",
       "</table>\n",
       "</div>"
      ],
      "text/plain": [
       "      Loan_ID  Gender Married Dependents     Education Self_Employed  \\\n",
       "188  LP001644     NaN     Yes          0      Graduate           Yes   \n",
       "216  LP001722    Male     Yes          0      Graduate            No   \n",
       "468  LP002502  Female     Yes          2  Not Graduate           NaN   \n",
       "500  LP002603  Female      No          0      Graduate            No   \n",
       "600  LP002949  Female      No         3+      Graduate           NaN   \n",
       "\n",
       "     ApplicantIncome  CoapplicantIncome  LoanAmount  Loan_Amount_Term  \\\n",
       "188              674             5296.0       168.0             360.0   \n",
       "216              150             1800.0       135.0             360.0   \n",
       "468              210             2917.0        98.0             360.0   \n",
       "500              645             3683.0       113.0             480.0   \n",
       "600              416            41667.0       350.0             180.0   \n",
       "\n",
       "     Credit_History Property_Area Loan_Status  \n",
       "188             1.0         Rural           Y  \n",
       "216             1.0         Rural           N  \n",
       "468             1.0     Semiurban           Y  \n",
       "500             1.0         Rural           Y  \n",
       "600             NaN         Urban           N  "
      ]
     },
     "execution_count": 6,
     "metadata": {},
     "output_type": "execute_result"
    }
   ],
   "source": [
    "# Rows in which the applican't income is less than $1,000\n",
    "mask = raw_df['ApplicantIncome'] < 1000\n",
    "raw_df[mask]"
   ]
  },
  {
   "cell_type": "code",
   "execution_count": 7,
   "metadata": {
    "scrolled": true
   },
   "outputs": [
    {
     "data": {
      "text/html": [
       "<div>\n",
       "<style scoped>\n",
       "    .dataframe tbody tr th:only-of-type {\n",
       "        vertical-align: middle;\n",
       "    }\n",
       "\n",
       "    .dataframe tbody tr th {\n",
       "        vertical-align: top;\n",
       "    }\n",
       "\n",
       "    .dataframe thead th {\n",
       "        text-align: right;\n",
       "    }\n",
       "</style>\n",
       "<table border=\"1\" class=\"dataframe\">\n",
       "  <thead>\n",
       "    <tr style=\"text-align: right;\">\n",
       "      <th></th>\n",
       "      <th>Loan_ID</th>\n",
       "      <th>Gender</th>\n",
       "      <th>Married</th>\n",
       "      <th>Dependents</th>\n",
       "      <th>Education</th>\n",
       "      <th>Self_Employed</th>\n",
       "      <th>ApplicantIncome</th>\n",
       "      <th>CoapplicantIncome</th>\n",
       "      <th>LoanAmount</th>\n",
       "      <th>Loan_Amount_Term</th>\n",
       "      <th>Credit_History</th>\n",
       "      <th>Property_Area</th>\n",
       "      <th>Loan_Status</th>\n",
       "    </tr>\n",
       "  </thead>\n",
       "  <tbody>\n",
       "    <tr>\n",
       "      <th>0</th>\n",
       "      <td>LP001002</td>\n",
       "      <td>Male</td>\n",
       "      <td>No</td>\n",
       "      <td>0</td>\n",
       "      <td>Graduate</td>\n",
       "      <td>No</td>\n",
       "      <td>5849</td>\n",
       "      <td>0.0</td>\n",
       "      <td>NaN</td>\n",
       "      <td>360.0</td>\n",
       "      <td>1.0</td>\n",
       "      <td>Urban</td>\n",
       "      <td>Y</td>\n",
       "    </tr>\n",
       "    <tr>\n",
       "      <th>2</th>\n",
       "      <td>LP001005</td>\n",
       "      <td>Male</td>\n",
       "      <td>Yes</td>\n",
       "      <td>0</td>\n",
       "      <td>Graduate</td>\n",
       "      <td>Yes</td>\n",
       "      <td>3000</td>\n",
       "      <td>0.0</td>\n",
       "      <td>66.0</td>\n",
       "      <td>360.0</td>\n",
       "      <td>1.0</td>\n",
       "      <td>Urban</td>\n",
       "      <td>Y</td>\n",
       "    </tr>\n",
       "    <tr>\n",
       "      <th>4</th>\n",
       "      <td>LP001008</td>\n",
       "      <td>Male</td>\n",
       "      <td>No</td>\n",
       "      <td>0</td>\n",
       "      <td>Graduate</td>\n",
       "      <td>No</td>\n",
       "      <td>6000</td>\n",
       "      <td>0.0</td>\n",
       "      <td>141.0</td>\n",
       "      <td>360.0</td>\n",
       "      <td>1.0</td>\n",
       "      <td>Urban</td>\n",
       "      <td>Y</td>\n",
       "    </tr>\n",
       "    <tr>\n",
       "      <th>15</th>\n",
       "      <td>LP001032</td>\n",
       "      <td>Male</td>\n",
       "      <td>No</td>\n",
       "      <td>0</td>\n",
       "      <td>Graduate</td>\n",
       "      <td>No</td>\n",
       "      <td>4950</td>\n",
       "      <td>0.0</td>\n",
       "      <td>125.0</td>\n",
       "      <td>360.0</td>\n",
       "      <td>1.0</td>\n",
       "      <td>Urban</td>\n",
       "      <td>Y</td>\n",
       "    </tr>\n",
       "    <tr>\n",
       "      <th>16</th>\n",
       "      <td>LP001034</td>\n",
       "      <td>Male</td>\n",
       "      <td>No</td>\n",
       "      <td>1</td>\n",
       "      <td>Not Graduate</td>\n",
       "      <td>No</td>\n",
       "      <td>3596</td>\n",
       "      <td>0.0</td>\n",
       "      <td>100.0</td>\n",
       "      <td>240.0</td>\n",
       "      <td>NaN</td>\n",
       "      <td>Urban</td>\n",
       "      <td>Y</td>\n",
       "    </tr>\n",
       "    <tr>\n",
       "      <th>17</th>\n",
       "      <td>LP001036</td>\n",
       "      <td>Female</td>\n",
       "      <td>No</td>\n",
       "      <td>0</td>\n",
       "      <td>Graduate</td>\n",
       "      <td>No</td>\n",
       "      <td>3510</td>\n",
       "      <td>0.0</td>\n",
       "      <td>76.0</td>\n",
       "      <td>360.0</td>\n",
       "      <td>0.0</td>\n",
       "      <td>Urban</td>\n",
       "      <td>N</td>\n",
       "    </tr>\n",
       "    <tr>\n",
       "      <th>18</th>\n",
       "      <td>LP001038</td>\n",
       "      <td>Male</td>\n",
       "      <td>Yes</td>\n",
       "      <td>0</td>\n",
       "      <td>Not Graduate</td>\n",
       "      <td>No</td>\n",
       "      <td>4887</td>\n",
       "      <td>0.0</td>\n",
       "      <td>133.0</td>\n",
       "      <td>360.0</td>\n",
       "      <td>1.0</td>\n",
       "      <td>Rural</td>\n",
       "      <td>N</td>\n",
       "    </tr>\n",
       "    <tr>\n",
       "      <th>20</th>\n",
       "      <td>LP001043</td>\n",
       "      <td>Male</td>\n",
       "      <td>Yes</td>\n",
       "      <td>0</td>\n",
       "      <td>Not Graduate</td>\n",
       "      <td>No</td>\n",
       "      <td>7660</td>\n",
       "      <td>0.0</td>\n",
       "      <td>104.0</td>\n",
       "      <td>360.0</td>\n",
       "      <td>0.0</td>\n",
       "      <td>Urban</td>\n",
       "      <td>N</td>\n",
       "    </tr>\n",
       "    <tr>\n",
       "      <th>25</th>\n",
       "      <td>LP001066</td>\n",
       "      <td>Male</td>\n",
       "      <td>Yes</td>\n",
       "      <td>0</td>\n",
       "      <td>Graduate</td>\n",
       "      <td>Yes</td>\n",
       "      <td>9560</td>\n",
       "      <td>0.0</td>\n",
       "      <td>191.0</td>\n",
       "      <td>360.0</td>\n",
       "      <td>1.0</td>\n",
       "      <td>Semiurban</td>\n",
       "      <td>Y</td>\n",
       "    </tr>\n",
       "    <tr>\n",
       "      <th>28</th>\n",
       "      <td>LP001086</td>\n",
       "      <td>Male</td>\n",
       "      <td>No</td>\n",
       "      <td>0</td>\n",
       "      <td>Not Graduate</td>\n",
       "      <td>No</td>\n",
       "      <td>1442</td>\n",
       "      <td>0.0</td>\n",
       "      <td>35.0</td>\n",
       "      <td>360.0</td>\n",
       "      <td>1.0</td>\n",
       "      <td>Urban</td>\n",
       "      <td>N</td>\n",
       "    </tr>\n",
       "  </tbody>\n",
       "</table>\n",
       "</div>"
      ],
      "text/plain": [
       "     Loan_ID  Gender Married Dependents     Education Self_Employed  \\\n",
       "0   LP001002    Male      No          0      Graduate            No   \n",
       "2   LP001005    Male     Yes          0      Graduate           Yes   \n",
       "4   LP001008    Male      No          0      Graduate            No   \n",
       "15  LP001032    Male      No          0      Graduate            No   \n",
       "16  LP001034    Male      No          1  Not Graduate            No   \n",
       "17  LP001036  Female      No          0      Graduate            No   \n",
       "18  LP001038    Male     Yes          0  Not Graduate            No   \n",
       "20  LP001043    Male     Yes          0  Not Graduate            No   \n",
       "25  LP001066    Male     Yes          0      Graduate           Yes   \n",
       "28  LP001086    Male      No          0  Not Graduate            No   \n",
       "\n",
       "    ApplicantIncome  CoapplicantIncome  LoanAmount  Loan_Amount_Term  \\\n",
       "0              5849                0.0         NaN             360.0   \n",
       "2              3000                0.0        66.0             360.0   \n",
       "4              6000                0.0       141.0             360.0   \n",
       "15             4950                0.0       125.0             360.0   \n",
       "16             3596                0.0       100.0             240.0   \n",
       "17             3510                0.0        76.0             360.0   \n",
       "18             4887                0.0       133.0             360.0   \n",
       "20             7660                0.0       104.0             360.0   \n",
       "25             9560                0.0       191.0             360.0   \n",
       "28             1442                0.0        35.0             360.0   \n",
       "\n",
       "    Credit_History Property_Area Loan_Status  \n",
       "0              1.0         Urban           Y  \n",
       "2              1.0         Urban           Y  \n",
       "4              1.0         Urban           Y  \n",
       "15             1.0         Urban           Y  \n",
       "16             NaN         Urban           Y  \n",
       "17             0.0         Urban           N  \n",
       "18             1.0         Rural           N  \n",
       "20             0.0         Urban           N  \n",
       "25             1.0     Semiurban           Y  \n",
       "28             1.0         Urban           N  "
      ]
     },
     "execution_count": 7,
     "metadata": {},
     "output_type": "execute_result"
    }
   ],
   "source": [
    "# First ten rows in which there are no Coapplicants\n",
    "mask = raw_df['CoapplicantIncome'] == 0\n",
    "raw_df[mask].head(10)"
   ]
  },
  {
   "cell_type": "code",
   "execution_count": 8,
   "metadata": {
    "scrolled": true
   },
   "outputs": [
    {
     "data": {
      "text/html": [
       "<div>\n",
       "<style scoped>\n",
       "    .dataframe tbody tr th:only-of-type {\n",
       "        vertical-align: middle;\n",
       "    }\n",
       "\n",
       "    .dataframe tbody tr th {\n",
       "        vertical-align: top;\n",
       "    }\n",
       "\n",
       "    .dataframe thead th {\n",
       "        text-align: right;\n",
       "    }\n",
       "</style>\n",
       "<table border=\"1\" class=\"dataframe\">\n",
       "  <thead>\n",
       "    <tr style=\"text-align: right;\">\n",
       "      <th></th>\n",
       "      <th>Loan_ID</th>\n",
       "      <th>Gender</th>\n",
       "      <th>Married</th>\n",
       "      <th>Dependents</th>\n",
       "      <th>Education</th>\n",
       "      <th>Self_Employed</th>\n",
       "      <th>ApplicantIncome</th>\n",
       "      <th>CoapplicantIncome</th>\n",
       "      <th>LoanAmount</th>\n",
       "      <th>Loan_Amount_Term</th>\n",
       "      <th>Credit_History</th>\n",
       "      <th>Property_Area</th>\n",
       "      <th>Loan_Status</th>\n",
       "    </tr>\n",
       "  </thead>\n",
       "  <tbody>\n",
       "    <tr>\n",
       "      <th>19</th>\n",
       "      <td>LP001041</td>\n",
       "      <td>Male</td>\n",
       "      <td>Yes</td>\n",
       "      <td>0</td>\n",
       "      <td>Graduate</td>\n",
       "      <td>NaN</td>\n",
       "      <td>2600</td>\n",
       "      <td>3500.0</td>\n",
       "      <td>115.0</td>\n",
       "      <td>NaN</td>\n",
       "      <td>1.0</td>\n",
       "      <td>Urban</td>\n",
       "      <td>Y</td>\n",
       "    </tr>\n",
       "    <tr>\n",
       "      <th>36</th>\n",
       "      <td>LP001109</td>\n",
       "      <td>Male</td>\n",
       "      <td>Yes</td>\n",
       "      <td>0</td>\n",
       "      <td>Graduate</td>\n",
       "      <td>No</td>\n",
       "      <td>1828</td>\n",
       "      <td>1330.0</td>\n",
       "      <td>100.0</td>\n",
       "      <td>NaN</td>\n",
       "      <td>0.0</td>\n",
       "      <td>Urban</td>\n",
       "      <td>N</td>\n",
       "    </tr>\n",
       "    <tr>\n",
       "      <th>44</th>\n",
       "      <td>LP001136</td>\n",
       "      <td>Male</td>\n",
       "      <td>Yes</td>\n",
       "      <td>0</td>\n",
       "      <td>Not Graduate</td>\n",
       "      <td>Yes</td>\n",
       "      <td>4695</td>\n",
       "      <td>0.0</td>\n",
       "      <td>96.0</td>\n",
       "      <td>NaN</td>\n",
       "      <td>1.0</td>\n",
       "      <td>Urban</td>\n",
       "      <td>Y</td>\n",
       "    </tr>\n",
       "    <tr>\n",
       "      <th>45</th>\n",
       "      <td>LP001137</td>\n",
       "      <td>Female</td>\n",
       "      <td>No</td>\n",
       "      <td>0</td>\n",
       "      <td>Graduate</td>\n",
       "      <td>No</td>\n",
       "      <td>3410</td>\n",
       "      <td>0.0</td>\n",
       "      <td>88.0</td>\n",
       "      <td>NaN</td>\n",
       "      <td>1.0</td>\n",
       "      <td>Urban</td>\n",
       "      <td>Y</td>\n",
       "    </tr>\n",
       "    <tr>\n",
       "      <th>73</th>\n",
       "      <td>LP001250</td>\n",
       "      <td>Male</td>\n",
       "      <td>Yes</td>\n",
       "      <td>3+</td>\n",
       "      <td>Not Graduate</td>\n",
       "      <td>No</td>\n",
       "      <td>4755</td>\n",
       "      <td>0.0</td>\n",
       "      <td>95.0</td>\n",
       "      <td>NaN</td>\n",
       "      <td>0.0</td>\n",
       "      <td>Semiurban</td>\n",
       "      <td>N</td>\n",
       "    </tr>\n",
       "    <tr>\n",
       "      <th>112</th>\n",
       "      <td>LP001391</td>\n",
       "      <td>Male</td>\n",
       "      <td>Yes</td>\n",
       "      <td>0</td>\n",
       "      <td>Not Graduate</td>\n",
       "      <td>No</td>\n",
       "      <td>3572</td>\n",
       "      <td>4114.0</td>\n",
       "      <td>152.0</td>\n",
       "      <td>NaN</td>\n",
       "      <td>0.0</td>\n",
       "      <td>Rural</td>\n",
       "      <td>N</td>\n",
       "    </tr>\n",
       "    <tr>\n",
       "      <th>165</th>\n",
       "      <td>LP001574</td>\n",
       "      <td>Male</td>\n",
       "      <td>Yes</td>\n",
       "      <td>0</td>\n",
       "      <td>Graduate</td>\n",
       "      <td>No</td>\n",
       "      <td>3707</td>\n",
       "      <td>3166.0</td>\n",
       "      <td>182.0</td>\n",
       "      <td>NaN</td>\n",
       "      <td>1.0</td>\n",
       "      <td>Rural</td>\n",
       "      <td>Y</td>\n",
       "    </tr>\n",
       "    <tr>\n",
       "      <th>197</th>\n",
       "      <td>LP001669</td>\n",
       "      <td>Female</td>\n",
       "      <td>No</td>\n",
       "      <td>0</td>\n",
       "      <td>Not Graduate</td>\n",
       "      <td>No</td>\n",
       "      <td>1907</td>\n",
       "      <td>2365.0</td>\n",
       "      <td>120.0</td>\n",
       "      <td>NaN</td>\n",
       "      <td>1.0</td>\n",
       "      <td>Urban</td>\n",
       "      <td>Y</td>\n",
       "    </tr>\n",
       "    <tr>\n",
       "      <th>223</th>\n",
       "      <td>LP001749</td>\n",
       "      <td>Male</td>\n",
       "      <td>Yes</td>\n",
       "      <td>0</td>\n",
       "      <td>Graduate</td>\n",
       "      <td>No</td>\n",
       "      <td>7578</td>\n",
       "      <td>1010.0</td>\n",
       "      <td>175.0</td>\n",
       "      <td>NaN</td>\n",
       "      <td>1.0</td>\n",
       "      <td>Semiurban</td>\n",
       "      <td>Y</td>\n",
       "    </tr>\n",
       "    <tr>\n",
       "      <th>232</th>\n",
       "      <td>LP001770</td>\n",
       "      <td>Male</td>\n",
       "      <td>No</td>\n",
       "      <td>0</td>\n",
       "      <td>Not Graduate</td>\n",
       "      <td>No</td>\n",
       "      <td>3189</td>\n",
       "      <td>2598.0</td>\n",
       "      <td>120.0</td>\n",
       "      <td>NaN</td>\n",
       "      <td>1.0</td>\n",
       "      <td>Rural</td>\n",
       "      <td>Y</td>\n",
       "    </tr>\n",
       "    <tr>\n",
       "      <th>335</th>\n",
       "      <td>LP002106</td>\n",
       "      <td>Male</td>\n",
       "      <td>Yes</td>\n",
       "      <td>NaN</td>\n",
       "      <td>Graduate</td>\n",
       "      <td>Yes</td>\n",
       "      <td>5503</td>\n",
       "      <td>4490.0</td>\n",
       "      <td>70.0</td>\n",
       "      <td>NaN</td>\n",
       "      <td>1.0</td>\n",
       "      <td>Semiurban</td>\n",
       "      <td>Y</td>\n",
       "    </tr>\n",
       "    <tr>\n",
       "      <th>367</th>\n",
       "      <td>LP002188</td>\n",
       "      <td>Male</td>\n",
       "      <td>No</td>\n",
       "      <td>0</td>\n",
       "      <td>Graduate</td>\n",
       "      <td>No</td>\n",
       "      <td>5124</td>\n",
       "      <td>0.0</td>\n",
       "      <td>124.0</td>\n",
       "      <td>NaN</td>\n",
       "      <td>0.0</td>\n",
       "      <td>Rural</td>\n",
       "      <td>N</td>\n",
       "    </tr>\n",
       "    <tr>\n",
       "      <th>421</th>\n",
       "      <td>LP002357</td>\n",
       "      <td>Female</td>\n",
       "      <td>No</td>\n",
       "      <td>0</td>\n",
       "      <td>Not Graduate</td>\n",
       "      <td>No</td>\n",
       "      <td>2720</td>\n",
       "      <td>0.0</td>\n",
       "      <td>80.0</td>\n",
       "      <td>NaN</td>\n",
       "      <td>0.0</td>\n",
       "      <td>Urban</td>\n",
       "      <td>N</td>\n",
       "    </tr>\n",
       "    <tr>\n",
       "      <th>423</th>\n",
       "      <td>LP002362</td>\n",
       "      <td>Male</td>\n",
       "      <td>Yes</td>\n",
       "      <td>1</td>\n",
       "      <td>Graduate</td>\n",
       "      <td>No</td>\n",
       "      <td>7250</td>\n",
       "      <td>1667.0</td>\n",
       "      <td>110.0</td>\n",
       "      <td>NaN</td>\n",
       "      <td>0.0</td>\n",
       "      <td>Urban</td>\n",
       "      <td>N</td>\n",
       "    </tr>\n",
       "  </tbody>\n",
       "</table>\n",
       "</div>"
      ],
      "text/plain": [
       "      Loan_ID  Gender Married Dependents     Education Self_Employed  \\\n",
       "19   LP001041    Male     Yes          0      Graduate           NaN   \n",
       "36   LP001109    Male     Yes          0      Graduate            No   \n",
       "44   LP001136    Male     Yes          0  Not Graduate           Yes   \n",
       "45   LP001137  Female      No          0      Graduate            No   \n",
       "73   LP001250    Male     Yes         3+  Not Graduate            No   \n",
       "112  LP001391    Male     Yes          0  Not Graduate            No   \n",
       "165  LP001574    Male     Yes          0      Graduate            No   \n",
       "197  LP001669  Female      No          0  Not Graduate            No   \n",
       "223  LP001749    Male     Yes          0      Graduate            No   \n",
       "232  LP001770    Male      No          0  Not Graduate            No   \n",
       "335  LP002106    Male     Yes        NaN      Graduate           Yes   \n",
       "367  LP002188    Male      No          0      Graduate            No   \n",
       "421  LP002357  Female      No          0  Not Graduate            No   \n",
       "423  LP002362    Male     Yes          1      Graduate            No   \n",
       "\n",
       "     ApplicantIncome  CoapplicantIncome  LoanAmount  Loan_Amount_Term  \\\n",
       "19              2600             3500.0       115.0               NaN   \n",
       "36              1828             1330.0       100.0               NaN   \n",
       "44              4695                0.0        96.0               NaN   \n",
       "45              3410                0.0        88.0               NaN   \n",
       "73              4755                0.0        95.0               NaN   \n",
       "112             3572             4114.0       152.0               NaN   \n",
       "165             3707             3166.0       182.0               NaN   \n",
       "197             1907             2365.0       120.0               NaN   \n",
       "223             7578             1010.0       175.0               NaN   \n",
       "232             3189             2598.0       120.0               NaN   \n",
       "335             5503             4490.0        70.0               NaN   \n",
       "367             5124                0.0       124.0               NaN   \n",
       "421             2720                0.0        80.0               NaN   \n",
       "423             7250             1667.0       110.0               NaN   \n",
       "\n",
       "     Credit_History Property_Area Loan_Status  \n",
       "19              1.0         Urban           Y  \n",
       "36              0.0         Urban           N  \n",
       "44              1.0         Urban           Y  \n",
       "45              1.0         Urban           Y  \n",
       "73              0.0     Semiurban           N  \n",
       "112             0.0         Rural           N  \n",
       "165             1.0         Rural           Y  \n",
       "197             1.0         Urban           Y  \n",
       "223             1.0     Semiurban           Y  \n",
       "232             1.0         Rural           Y  \n",
       "335             1.0     Semiurban           Y  \n",
       "367             0.0         Rural           N  \n",
       "421             0.0         Urban           N  \n",
       "423             0.0         Urban           N  "
      ]
     },
     "execution_count": 8,
     "metadata": {},
     "output_type": "execute_result"
    }
   ],
   "source": [
    "# Rows in which the Loan Amount Term is null\n",
    "mask = raw_df['Loan_Amount_Term'].isnull()\n",
    "raw_df[mask]"
   ]
  },
  {
   "cell_type": "markdown",
   "metadata": {},
   "source": [
    "## Cleaning the Data"
   ]
  },
  {
   "cell_type": "code",
   "execution_count": 9,
   "metadata": {},
   "outputs": [],
   "source": [
    "# THIS IS THE INITIALIZING OF THE CLEANED DATAFRAME\n",
    "# Dummying categorical data and droping the Loan_ID\n",
    "df = pd.get_dummies(raw_df.drop(['Loan_ID', 'Gender'], axis=1))"
   ]
  },
  {
   "cell_type": "markdown",
   "metadata": {},
   "source": [
    "Keeping Loan_ID out for now, both because I don't suspect it to be important for to task and to help anonimize the process even further.  \n",
    "\n",
    "Also Removing Gender because it would be unethical for that to be a factor for which a person can obtain a loan."
   ]
  },
  {
   "cell_type": "code",
   "execution_count": 10,
   "metadata": {},
   "outputs": [],
   "source": [
    "# Get Dummies comes equipt to automatically drop one of the dummie columns,\n",
    "# However, I prefer to manually select which columns to drop.\n",
    "df.drop(['Married_No',    \n",
    "           'Dependents_0',\n",
    "           'Education_Not Graduate',\n",
    "           'Self_Employed_No',\n",
    "           'Loan_Status_N']\n",
    "          , axis=1, inplace = True)"
   ]
  },
  {
   "cell_type": "code",
   "execution_count": 11,
   "metadata": {},
   "outputs": [],
   "source": [
    "# Feature Engeenering column for if there's a coapplicant or not\n",
    "df['Coapplicant_True'] = df['CoapplicantIncome'].map(lambda x: 1 if x > 0 else 0)"
   ]
  },
  {
   "cell_type": "code",
   "execution_count": 12,
   "metadata": {},
   "outputs": [],
   "source": [
    "filterwarnings(\"ignore\") # Silencing warning about copying over the slice of DataFrame, for now.\n",
    "\n",
    "# Filling Nulls\n",
    "df['Credit_History'] = df['Credit_History'].fillna(0).map(lambda x: int(x))\n",
    "df['LoanAmount']     = df['LoanAmount'].fillna(0).map(lambda x: int(x))\n",
    "\n",
    "# While this isn't the most accurate representation of a non existent Loan Amount Term,\n",
    "# This meathod allows us to keep all present nulls while being able to feature engineer later\n",
    "df['Indefinite_Term'] = (df['Loan_Amount_Term'].isna())*1\n",
    "df['Loan_Amount_Term'].fillna(600,inplace = True)\n",
    "\n",
    "# Adding new column for ease of reading\n",
    "df['Term_In_Years'] = df['Loan_Amount_Term'].fillna(0).map(lambda x: int(x/12))"
   ]
  },
  {
   "cell_type": "code",
   "execution_count": 13,
   "metadata": {},
   "outputs": [],
   "source": [
    "# Renaming a few columns for easier reading.\n",
    "df.rename({'Loan_Status_Y'     : \"Target\",\n",
    "                 'Education_Graduate': \"Graduate\",\n",
    "                 'Self_Employed_Yes' : \"Self_Employed\",\n",
    "                 'Credit_History'    : \"Good_Credit\",\n",
    "                 'Property_Area_Rural': 'Property_Rural',\n",
    "                 'Property_Area_Semiurban': 'Property_Semiurban',\n",
    "                 'Property_Area_Urban': 'Property_Urban'\n",
    "                 }, axis = 1, inplace = True)"
   ]
  },
  {
   "cell_type": "code",
   "execution_count": 14,
   "metadata": {
    "scrolled": true
   },
   "outputs": [],
   "source": [
    "# Feature Engineering row for the percentage of monthly income the applicant would spend to pay off the loan\n",
    "\n",
    "df['Payment_Percent'] = ((df['LoanAmount']*1000)/df['Loan_Amount_Term'])/df['ApplicantIncome']\n",
    "df['Payment_Per_Month'] = ((df['LoanAmount']*1000)/df['Loan_Amount_Term']).round()"
   ]
  },
  {
   "cell_type": "code",
   "execution_count": 15,
   "metadata": {},
   "outputs": [],
   "source": [
    "# Turning Floats into Ints for easier reading\n",
    "df['CoapplicantIncome'] = df['CoapplicantIncome'].astype(int)#, copy = False)\n",
    "df['Loan_Amount_Term']  = df['Loan_Amount_Term'].astype(int)\n",
    "df['Payment_Per_Month'] = df['Payment_Per_Month'].astype(int)"
   ]
  },
  {
   "cell_type": "markdown",
   "metadata": {},
   "source": [
    "## Exploritory Data Analysis"
   ]
  },
  {
   "cell_type": "code",
   "execution_count": 16,
   "metadata": {},
   "outputs": [],
   "source": [
    "# EDA Functions\n",
    "def list_corrs(df, target):\n",
    "    return df.corr().sort_values([str(target)])[str(target)]\n",
    "\n",
    "# Quick way to spid out the heatmap\n",
    "def heatmap_correlations(df, size = 20):\n",
    "    fig, ax = plt.subplots(figsize=(size,size))\n",
    "    sns.heatmap(df.corr(), annot=True)\n",
    "    return\n",
    "\n",
    "# Function that states the % in each feature for which the Target is true\n",
    "def percent_in_target(df, feature, target):\n",
    "    total = df[feature] == 1\n",
    "    mask = (df[target] == 1) & (df[feature] == 1)\n",
    "    print(\"Percent of\",str(feature), 'in', str(target), ':', int(len(df[mask]) / len(df[total])*100),\"%\")"
   ]
  },
  {
   "cell_type": "code",
   "execution_count": 18,
   "metadata": {},
   "outputs": [
    {
     "name": "stdout",
     "output_type": "stream",
     "text": [
      "0.6923837784371909\n",
      "2.5\n",
      "0.8712759977515458\n",
      "0.5824877865464111\n",
      "1.2368731845893581\n",
      "1.2962962962962963\n",
      "2.0\n",
      "0.5853658536585366\n",
      "0.661769571835087\n",
      "4.674145299145299\n",
      "\n",
      "Num of Applicants: 10\n"
     ]
    }
   ],
   "source": [
    "# Seeing how many applicants are above X amount of payment percentage per month\n",
    "percent = 0.50\n",
    "\n",
    "count = 0\n",
    "for i in df['Payment_Percent']:\n",
    "    if i > percent:\n",
    "        print(i)\n",
    "        count += 1\n",
    "print('')\n",
    "print('Num of Applicants:',count)"
   ]
  },
  {
   "cell_type": "code",
   "execution_count": 46,
   "metadata": {},
   "outputs": [
    {
     "data": {
      "image/png": "[encoded data removed]",
      "text/plain": [
       "<Figure size 432x432 with 4 Axes>"
      ]
     },
     "metadata": {
      "needs_background": "light"
     },
     "output_type": "display_data"
    }
   ],
   "source": [
    "# Graphs of applicant income based on weather they have a coapplicant and if they recieved a loan.\n",
    "Grid = sns.FacetGrid(df, col=\"Coapplicant_True\", row=\"Target\", margin_titles=True)\n",
    "Grid.map(plt.hist,'ApplicantIncome', bins = 25, range = (0,20000));\n",
    "# While the outliers reach out into the 80,000 range, \n",
    "# I have restricted this to 20,000 so the charts would be more readable."
   ]
  },
  {
   "cell_type": "code",
   "execution_count": 21,
   "metadata": {},
   "outputs": [
    {
     "name": "stdout",
     "output_type": "stream",
     "text": [
      "Percent of Good_Credit in Target : 79 %\n",
      "Percent of Married_Yes in Target : 71 %\n",
      "Percent of Dependents_1 in Target : 64 %\n",
      "Percent of Dependents_2 in Target : 75 %\n",
      "Percent of Dependents_3+ in Target : 64 %\n",
      "Percent of Graduate in Target : 70 %\n",
      "Percent of Self_Employed in Target : 68 %\n",
      "Percent of Property_Rural in Target : 61 %\n",
      "Percent of Property_Semiurban in Target : 76 %\n",
      "Percent of Property_Urban in Target : 65 %\n",
      "Percent of Coapplicant_True in Target : 71 %\n",
      "Percent of Indefinite_Term in Target : 57 %\n"
     ]
    }
   ],
   "source": [
    "dummies = ['Good_Credit', 'Married_Yes',\n",
    "       'Dependents_1', 'Dependents_2', 'Dependents_3+', 'Graduate',\n",
    "       'Self_Employed', 'Property_Rural', 'Property_Semiurban',\n",
    "       'Property_Urban', 'Coapplicant_True', 'Indefinite_Term']\n",
    "for i in dummies:\n",
    "    percent_in_target(df, i, 'Target')"
   ]
  },
  {
   "cell_type": "code",
   "execution_count": 22,
   "metadata": {
    "scrolled": false
   },
   "outputs": [
    {
     "name": "stdout",
     "output_type": "stream",
     "text": [
      "Correlations to target\n"
     ]
    },
    {
     "data": {
      "text/plain": [
       "Property_Rural       -0.100694\n",
       "Payment_Percent      -0.065106\n",
       "CoapplicantIncome    -0.059188\n",
       "Property_Urban       -0.043621\n",
       "Dependents_1         -0.038740\n",
       "Indefinite_Term      -0.038178\n",
       "Loan_Amount_Term     -0.037607\n",
       "Term_In_Years        -0.037607\n",
       "Dependents_3+        -0.026123\n",
       "LoanAmount           -0.010631\n",
       "ApplicantIncome      -0.004710\n",
       "Self_Employed        -0.003700\n",
       "Payment_Per_Month     0.002412\n",
       "Dependents_2          0.062384\n",
       "Coapplicant_True      0.075165\n",
       "Married_Yes           0.084281\n",
       "Graduate              0.085884\n",
       "Property_Semiurban    0.136540\n",
       "Good_Credit           0.432616\n",
       "Target                1.000000\n",
       "Name: Target, dtype: float64"
      ]
     },
     "execution_count": 22,
     "metadata": {},
     "output_type": "execute_result"
    }
   ],
   "source": [
    "print('Correlations to target')\n",
    "list_corrs(df, 'Target')"
   ]
  },
  {
   "cell_type": "code",
   "execution_count": 23,
   "metadata": {},
   "outputs": [
    {
     "data": {
      "image/png": "[encoded data removed]",
      "text/plain": [
       "<Figure size 1440x1440 with 2 Axes>"
      ]
     },
     "metadata": {
      "needs_background": "light"
     },
     "output_type": "display_data"
    }
   ],
   "source": [
    "heatmap_correlations(df)"
   ]
  },
  {
   "cell_type": "markdown",
   "metadata": {},
   "source": [
    "## Modeling"
   ]
  },
  {
   "cell_type": "markdown",
   "metadata": {},
   "source": [
    "### Model Imports & Initiations"
   ]
  },
  {
   "cell_type": "code",
   "execution_count": 27,
   "metadata": {},
   "outputs": [],
   "source": [
    "# Processing & Scoring\n",
    "from sklearn.model_selection import train_test_split, cross_val_score\n",
    "from sklearn.preprocessing import StandardScaler, PolynomialFeatures\n",
    "\n",
    "#Models\n",
    "from sklearn.linear_model import LogisticRegression\n",
    "from sklearn.neighbors import KNeighborsClassifier\n",
    "from sklearn.tree import DecisionTreeClassifier\n",
    "from sklearn.ensemble import BaggingClassifier, RandomForestClassifier, AdaBoostClassifier, ExtraTreesClassifier"
   ]
  },
  {
   "cell_type": "code",
   "execution_count": 28,
   "metadata": {},
   "outputs": [],
   "source": [
    "# Function for easy and quick testing\n",
    "def test_model(df, test_model, features, target = 'Target'):\n",
    "    model = test_model\n",
    "    X_train, X_test, y_train, y_test = train_test_split(df[features], df[target]) \n",
    "    model = model.fit(X_train,y_train)\n",
    "\n",
    "    print('Train:', model.score(X_train,y_train))\n",
    "    print('Test: ',  model.score(X_test,y_test))\n",
    "    return\n"
   ]
  },
  {
   "cell_type": "markdown",
   "metadata": {},
   "source": [
    "### Historical Lists of Features & Results"
   ]
  },
  {
   "cell_type": "code",
   "execution_count": 30,
   "metadata": {},
   "outputs": [
    {
     "name": "stdout",
     "output_type": "stream",
     "text": [
      "Train: 0.7782608695652173\n",
      "Test:  0.7662337662337663\n"
     ]
    }
   ],
   "source": [
    "# This is our first set of features before any feature engineering or cutting down on less useful features\n",
    "features = ['ApplicantIncome', 'CoapplicantIncome', 'LoanAmount',\n",
    "       'Loan_Amount_Term', 'Good_Credit', 'Married_Yes',\n",
    "       'Dependents_1', 'Dependents_2', 'Dependents_3+', 'Graduate',\n",
    "       'Self_Employed', 'Property_Rural', 'Property_Semiurban',\n",
    "       'Property_Urban']\n",
    "test_model(df, LogisticRegression(), features)\n",
    "# This resulted in an accuracy of about 75% to 80%"
   ]
  },
  {
   "cell_type": "code",
   "execution_count": 31,
   "metadata": {},
   "outputs": [
    {
     "name": "stdout",
     "output_type": "stream",
     "text": [
      "Train: 0.7847826086956522\n",
      "Test:  0.7272727272727273\n"
     ]
    }
   ],
   "source": [
    "# Second set.  Cutting down on less accurate features\n",
    "features = ['Good_Credit', 'Property_Rural', 'Property_Semiurban', 'Property_Urban']\n",
    "\n",
    "test_model(df, LogisticRegression(), features)\n",
    "# Because the issues is that the bias is too high, the accuracy is about the same as the first, or slightly worse."
   ]
  },
  {
   "cell_type": "code",
   "execution_count": 32,
   "metadata": {},
   "outputs": [
    {
     "name": "stdout",
     "output_type": "stream",
     "text": [
      "Train: 0.7652173913043478\n",
      "Test:  0.7857142857142857\n"
     ]
    }
   ],
   "source": [
    "# Third set.  All columns (Sans Term_in_Years), with the addition of the engineered features\n",
    "features = ['ApplicantIncome', 'CoapplicantIncome', 'LoanAmount',\n",
    "       'Loan_Amount_Term', 'Good_Credit', 'Married_Yes',\n",
    "       'Dependents_1', 'Dependents_2', 'Dependents_3+', 'Graduate',\n",
    "       'Self_Employed', 'Property_Rural', 'Property_Semiurban',\n",
    "       'Property_Urban', 'Coapplicant_True', 'Indefinite_Term'\n",
    "            , 'Payment_Percent', 'Payment_Per_Month']\n",
    "\n",
    "test_model(df, LogisticRegression(), features)\n",
    "# Still not much of a change"
   ]
  },
  {
   "cell_type": "code",
   "execution_count": 33,
   "metadata": {},
   "outputs": [
    {
     "name": "stdout",
     "output_type": "stream",
     "text": [
      "Train: 0.7717391304347826\n",
      "Test:  0.7337662337662337\n"
     ]
    }
   ],
   "source": [
    "corrs = df.corr()[['Target']]\n",
    "mask = abs(corrs['Target']) > 0.04\n",
    "features = [i for i in corrs[mask].index]\n",
    "features.remove('Target')\n",
    "test_model(df, LogisticRegression(), features)\n",
    "# While I didn't expect much of a change here, I still wanted to try.\n",
    "# I didn't expect this to improve the score because the issue isn't that there's \n",
    "# too much complexity in the model, but that there's not enough complexity.\n",
    "# In data science terms: There is high bias, low variance.  The model is underfit."
   ]
  },
  {
   "cell_type": "markdown",
   "metadata": {},
   "source": [
    "In an effort to throw everything at the wall despite knowing that many of the following methods are I'll suited to this situation, I have added the following incase my Classifier is the thing that is not complex enough."
   ]
  },
  {
   "cell_type": "code",
   "execution_count": 35,
   "metadata": {},
   "outputs": [
    {
     "name": "stdout",
     "output_type": "stream",
     "text": [
      "KNeighborsClassifier\n",
      "Train: 0.741304347826087\n",
      "Test:  0.7337662337662337\n",
      "DecisionTreeClassifier\n",
      "Train: 1.0\n",
      "Test:  0.6623376623376623\n",
      "BaggingClassifier\n",
      "Train: 0.9760869565217392\n",
      "Test:  0.6623376623376623\n",
      "RandomForestClassifier\n",
      "Train: 0.9782608695652174\n",
      "Test:  0.6623376623376623\n",
      "AdaBoostClassifier\n",
      "Train: 0.8108695652173913\n",
      "Test:  0.7532467532467533\n",
      "ExtraTreesClassifier\n",
      "Train: 1.0\n",
      "Test:  0.6428571428571429\n"
     ]
    }
   ],
   "source": [
    "print('KNeighborsClassifier')\n",
    "test_model(df, KNeighborsClassifier(), features)\n",
    "print('DecisionTreeClassifier')\n",
    "test_model(df, DecisionTreeClassifier(), features)\n",
    "print('BaggingClassifier')\n",
    "test_model(df, BaggingClassifier(), features)\n",
    "print('RandomForestClassifier')\n",
    "test_model(df, RandomForestClassifier(), features)\n",
    "print('AdaBoostClassifier')\n",
    "test_model(df, AdaBoostClassifier(), features)\n",
    "print('ExtraTreesClassifier')\n",
    "test_model(df, ExtraTreesClassifier(), features)\n",
    "\n",
    "# These results were roughly what I expected\n",
    "# Let's do some real feature engineering."
   ]
  },
  {
   "cell_type": "markdown",
   "metadata": {},
   "source": [
    "PolynomialFeatures takes each feature, and then creates a feature^2 column and creates columns out of the multiplied results of each feature_column multiplied by each other feature column."
   ]
  },
  {
   "cell_type": "code",
   "execution_count": 36,
   "metadata": {},
   "outputs": [
    {
     "data": {
      "text/html": [
       "<div>\n",
       "<style scoped>\n",
       "    .dataframe tbody tr th:only-of-type {\n",
       "        vertical-align: middle;\n",
       "    }\n",
       "\n",
       "    .dataframe tbody tr th {\n",
       "        vertical-align: top;\n",
       "    }\n",
       "\n",
       "    .dataframe thead th {\n",
       "        text-align: right;\n",
       "    }\n",
       "</style>\n",
       "<table border=\"1\" class=\"dataframe\">\n",
       "  <thead>\n",
       "    <tr style=\"text-align: right;\">\n",
       "      <th></th>\n",
       "      <th>ApplicantIncome</th>\n",
       "      <th>CoapplicantIncome</th>\n",
       "      <th>LoanAmount</th>\n",
       "      <th>Loan_Amount_Term</th>\n",
       "      <th>Good_Credit</th>\n",
       "      <th>Married_Yes</th>\n",
       "      <th>Dependents_1</th>\n",
       "      <th>Dependents_2</th>\n",
       "      <th>Dependents_3+</th>\n",
       "      <th>Graduate</th>\n",
       "      <th>...</th>\n",
       "      <th>Indefinite_Term^2</th>\n",
       "      <th>Indefinite_Term Term_In_Years</th>\n",
       "      <th>Indefinite_Term Payment_Percent</th>\n",
       "      <th>Indefinite_Term Payment_Per_Month</th>\n",
       "      <th>Term_In_Years^2</th>\n",
       "      <th>Term_In_Years Payment_Percent</th>\n",
       "      <th>Term_In_Years Payment_Per_Month</th>\n",
       "      <th>Payment_Percent^2</th>\n",
       "      <th>Payment_Percent Payment_Per_Month</th>\n",
       "      <th>Payment_Per_Month^2</th>\n",
       "    </tr>\n",
       "  </thead>\n",
       "  <tbody>\n",
       "    <tr>\n",
       "      <th>0</th>\n",
       "      <td>5849.0</td>\n",
       "      <td>0.0</td>\n",
       "      <td>0.0</td>\n",
       "      <td>360.0</td>\n",
       "      <td>1.0</td>\n",
       "      <td>0.0</td>\n",
       "      <td>0.0</td>\n",
       "      <td>0.0</td>\n",
       "      <td>0.0</td>\n",
       "      <td>1.0</td>\n",
       "      <td>...</td>\n",
       "      <td>0.0</td>\n",
       "      <td>0.0</td>\n",
       "      <td>0.0</td>\n",
       "      <td>0.0</td>\n",
       "      <td>900.0</td>\n",
       "      <td>0.000000</td>\n",
       "      <td>0.0</td>\n",
       "      <td>0.000000</td>\n",
       "      <td>0.000000</td>\n",
       "      <td>0.0</td>\n",
       "    </tr>\n",
       "    <tr>\n",
       "      <th>1</th>\n",
       "      <td>4583.0</td>\n",
       "      <td>1508.0</td>\n",
       "      <td>128.0</td>\n",
       "      <td>360.0</td>\n",
       "      <td>1.0</td>\n",
       "      <td>1.0</td>\n",
       "      <td>1.0</td>\n",
       "      <td>0.0</td>\n",
       "      <td>0.0</td>\n",
       "      <td>1.0</td>\n",
       "      <td>...</td>\n",
       "      <td>0.0</td>\n",
       "      <td>0.0</td>\n",
       "      <td>0.0</td>\n",
       "      <td>0.0</td>\n",
       "      <td>900.0</td>\n",
       "      <td>2.327442</td>\n",
       "      <td>10680.0</td>\n",
       "      <td>0.006019</td>\n",
       "      <td>27.618978</td>\n",
       "      <td>126736.0</td>\n",
       "    </tr>\n",
       "    <tr>\n",
       "      <th>2</th>\n",
       "      <td>3000.0</td>\n",
       "      <td>0.0</td>\n",
       "      <td>66.0</td>\n",
       "      <td>360.0</td>\n",
       "      <td>1.0</td>\n",
       "      <td>1.0</td>\n",
       "      <td>0.0</td>\n",
       "      <td>0.0</td>\n",
       "      <td>0.0</td>\n",
       "      <td>1.0</td>\n",
       "      <td>...</td>\n",
       "      <td>0.0</td>\n",
       "      <td>0.0</td>\n",
       "      <td>0.0</td>\n",
       "      <td>0.0</td>\n",
       "      <td>900.0</td>\n",
       "      <td>1.833333</td>\n",
       "      <td>5490.0</td>\n",
       "      <td>0.003735</td>\n",
       "      <td>11.183333</td>\n",
       "      <td>33489.0</td>\n",
       "    </tr>\n",
       "    <tr>\n",
       "      <th>3</th>\n",
       "      <td>2583.0</td>\n",
       "      <td>2358.0</td>\n",
       "      <td>120.0</td>\n",
       "      <td>360.0</td>\n",
       "      <td>1.0</td>\n",
       "      <td>1.0</td>\n",
       "      <td>0.0</td>\n",
       "      <td>0.0</td>\n",
       "      <td>0.0</td>\n",
       "      <td>0.0</td>\n",
       "      <td>...</td>\n",
       "      <td>0.0</td>\n",
       "      <td>0.0</td>\n",
       "      <td>0.0</td>\n",
       "      <td>0.0</td>\n",
       "      <td>900.0</td>\n",
       "      <td>3.871467</td>\n",
       "      <td>9990.0</td>\n",
       "      <td>0.016654</td>\n",
       "      <td>42.973287</td>\n",
       "      <td>110889.0</td>\n",
       "    </tr>\n",
       "    <tr>\n",
       "      <th>4</th>\n",
       "      <td>6000.0</td>\n",
       "      <td>0.0</td>\n",
       "      <td>141.0</td>\n",
       "      <td>360.0</td>\n",
       "      <td>1.0</td>\n",
       "      <td>0.0</td>\n",
       "      <td>0.0</td>\n",
       "      <td>0.0</td>\n",
       "      <td>0.0</td>\n",
       "      <td>1.0</td>\n",
       "      <td>...</td>\n",
       "      <td>0.0</td>\n",
       "      <td>0.0</td>\n",
       "      <td>0.0</td>\n",
       "      <td>0.0</td>\n",
       "      <td>900.0</td>\n",
       "      <td>1.958333</td>\n",
       "      <td>11760.0</td>\n",
       "      <td>0.004261</td>\n",
       "      <td>25.588889</td>\n",
       "      <td>153664.0</td>\n",
       "    </tr>\n",
       "  </tbody>\n",
       "</table>\n",
       "<p>5 rows × 209 columns</p>\n",
       "</div>"
      ],
      "text/plain": [
       "   ApplicantIncome  CoapplicantIncome  LoanAmount  Loan_Amount_Term  \\\n",
       "0           5849.0                0.0         0.0             360.0   \n",
       "1           4583.0             1508.0       128.0             360.0   \n",
       "2           3000.0                0.0        66.0             360.0   \n",
       "3           2583.0             2358.0       120.0             360.0   \n",
       "4           6000.0                0.0       141.0             360.0   \n",
       "\n",
       "   Good_Credit  Married_Yes  Dependents_1  Dependents_2  Dependents_3+  \\\n",
       "0          1.0          0.0           0.0           0.0            0.0   \n",
       "1          1.0          1.0           1.0           0.0            0.0   \n",
       "2          1.0          1.0           0.0           0.0            0.0   \n",
       "3          1.0          1.0           0.0           0.0            0.0   \n",
       "4          1.0          0.0           0.0           0.0            0.0   \n",
       "\n",
       "   Graduate         ...           Indefinite_Term^2  \\\n",
       "0       1.0         ...                         0.0   \n",
       "1       1.0         ...                         0.0   \n",
       "2       1.0         ...                         0.0   \n",
       "3       0.0         ...                         0.0   \n",
       "4       1.0         ...                         0.0   \n",
       "\n",
       "   Indefinite_Term Term_In_Years  Indefinite_Term Payment_Percent  \\\n",
       "0                            0.0                              0.0   \n",
       "1                            0.0                              0.0   \n",
       "2                            0.0                              0.0   \n",
       "3                            0.0                              0.0   \n",
       "4                            0.0                              0.0   \n",
       "\n",
       "   Indefinite_Term Payment_Per_Month  Term_In_Years^2  \\\n",
       "0                                0.0            900.0   \n",
       "1                                0.0            900.0   \n",
       "2                                0.0            900.0   \n",
       "3                                0.0            900.0   \n",
       "4                                0.0            900.0   \n",
       "\n",
       "   Term_In_Years Payment_Percent  Term_In_Years Payment_Per_Month  \\\n",
       "0                       0.000000                              0.0   \n",
       "1                       2.327442                          10680.0   \n",
       "2                       1.833333                           5490.0   \n",
       "3                       3.871467                           9990.0   \n",
       "4                       1.958333                          11760.0   \n",
       "\n",
       "   Payment_Percent^2  Payment_Percent Payment_Per_Month  Payment_Per_Month^2  \n",
       "0           0.000000                           0.000000                  0.0  \n",
       "1           0.006019                          27.618978             126736.0  \n",
       "2           0.003735                          11.183333              33489.0  \n",
       "3           0.016654                          42.973287             110889.0  \n",
       "4           0.004261                          25.588889             153664.0  \n",
       "\n",
       "[5 rows x 209 columns]"
      ]
     },
     "execution_count": 36,
     "metadata": {},
     "output_type": "execute_result"
    }
   ],
   "source": [
    "\n",
    "poly = PolynomialFeatures(include_bias=False)                   # Init Poly Features\n",
    "features = [i for i in df.columns if i != 'Target']       # Define Features\n",
    "X = df[features]                                          # Define X\n",
    "X_poly = poly.fit_transform(X)                                  # Fit & Transform X\n",
    "X_poly = pd.DataFrame(X_poly, \n",
    "                    columns=poly.get_feature_names(features))   # Create a df to keep it easily understandable\n",
    "\n",
    "X_poly.head()"
   ]
  },
  {
   "cell_type": "code",
   "execution_count": 37,
   "metadata": {
    "scrolled": true
   },
   "outputs": [
    {
     "name": "stdout",
     "output_type": "stream",
     "text": [
      "Train: 0.7760869565217391\n",
      "Test:  0.7402597402597403\n"
     ]
    }
   ],
   "source": [
    "model    = LogisticRegression()\n",
    "y        = df['Target']\n",
    "\n",
    "X_train, X_test, y_train, y_test = train_test_split(X_poly, y) \n",
    "model = model.fit(X_train, y_train)\n",
    "#model.transform(X_test,y_test)\n",
    "\n",
    "print('Train:', model.score(X_train, y_train))\n",
    "print('Test: ', model.score(X_test, y_test))\n",
    "# Welp.  That's unfortunate."
   ]
  },
  {
   "cell_type": "markdown",
   "metadata": {},
   "source": [
    "Some more code on what I've done on the modeling but isn't clean/annotated enough for me to want to move them out of the laboratory and into the finished code area."
   ]
  },
  {
   "cell_type": "markdown",
   "metadata": {},
   "source": [
    "# LABORATORY\n",
    " - This is where I keep all the code that I'm currently working on so as to keep the rest of the notebook clean"
   ]
  },
  {
   "cell_type": "code",
   "execution_count": 38,
   "metadata": {},
   "outputs": [
    {
     "data": {
      "text/html": [
       "<div>\n",
       "<style scoped>\n",
       "    .dataframe tbody tr th:only-of-type {\n",
       "        vertical-align: middle;\n",
       "    }\n",
       "\n",
       "    .dataframe tbody tr th {\n",
       "        vertical-align: top;\n",
       "    }\n",
       "\n",
       "    .dataframe thead th {\n",
       "        text-align: right;\n",
       "    }\n",
       "</style>\n",
       "<table border=\"1\" class=\"dataframe\">\n",
       "  <thead>\n",
       "    <tr style=\"text-align: right;\">\n",
       "      <th></th>\n",
       "      <th>ApplicantIncome</th>\n",
       "      <th>CoapplicantIncome</th>\n",
       "      <th>LoanAmount</th>\n",
       "      <th>Loan_Amount_Term</th>\n",
       "      <th>Good_Credit</th>\n",
       "      <th>Married_Yes</th>\n",
       "      <th>Dependents_1</th>\n",
       "      <th>Dependents_2</th>\n",
       "      <th>Dependents_3+</th>\n",
       "      <th>Graduate</th>\n",
       "      <th>...</th>\n",
       "      <th>Indefinite_Term^2</th>\n",
       "      <th>Indefinite_Term Term_In_Years</th>\n",
       "      <th>Indefinite_Term Payment_Percent</th>\n",
       "      <th>Indefinite_Term Payment_Per_Month</th>\n",
       "      <th>Term_In_Years^2</th>\n",
       "      <th>Term_In_Years Payment_Percent</th>\n",
       "      <th>Term_In_Years Payment_Per_Month</th>\n",
       "      <th>Payment_Percent^2</th>\n",
       "      <th>Payment_Percent Payment_Per_Month</th>\n",
       "      <th>Payment_Per_Month^2</th>\n",
       "    </tr>\n",
       "  </thead>\n",
       "  <tbody>\n",
       "    <tr>\n",
       "      <th>0</th>\n",
       "      <td>0.072991</td>\n",
       "      <td>-0.554487</td>\n",
       "      <td>-1.599278</td>\n",
       "      <td>0.161632</td>\n",
       "      <td>0.540954</td>\n",
       "      <td>-1.357421</td>\n",
       "      <td>-0.446339</td>\n",
       "      <td>-0.443713</td>\n",
       "      <td>-0.300975</td>\n",
       "      <td>0.528362</td>\n",
       "      <td>...</td>\n",
       "      <td>0.023333</td>\n",
       "      <td>-0.02469</td>\n",
       "      <td>0.075238</td>\n",
       "      <td>0.134434</td>\n",
       "      <td>0.026125</td>\n",
       "      <td>-0.079611</td>\n",
       "      <td>-0.142249</td>\n",
       "      <td>0.242602</td>\n",
       "      <td>0.433480</td>\n",
       "      <td>0.774540</td>\n",
       "    </tr>\n",
       "    <tr>\n",
       "      <th>1</th>\n",
       "      <td>-0.134412</td>\n",
       "      <td>-0.038731</td>\n",
       "      <td>-0.149160</td>\n",
       "      <td>0.161632</td>\n",
       "      <td>0.540954</td>\n",
       "      <td>0.736691</td>\n",
       "      <td>2.240448</td>\n",
       "      <td>-0.443713</td>\n",
       "      <td>-0.300975</td>\n",
       "      <td>0.528362</td>\n",
       "      <td>...</td>\n",
       "      <td>0.023333</td>\n",
       "      <td>-0.02469</td>\n",
       "      <td>0.026737</td>\n",
       "      <td>0.029606</td>\n",
       "      <td>0.026125</td>\n",
       "      <td>-0.028291</td>\n",
       "      <td>-0.031327</td>\n",
       "      <td>0.030636</td>\n",
       "      <td>0.033924</td>\n",
       "      <td>0.037565</td>\n",
       "    </tr>\n",
       "    <tr>\n",
       "      <th>2</th>\n",
       "      <td>-0.393747</td>\n",
       "      <td>-0.554487</td>\n",
       "      <td>-0.851561</td>\n",
       "      <td>0.161632</td>\n",
       "      <td>0.540954</td>\n",
       "      <td>0.736691</td>\n",
       "      <td>-0.446339</td>\n",
       "      <td>-0.443713</td>\n",
       "      <td>-0.300975</td>\n",
       "      <td>0.528362</td>\n",
       "      <td>...</td>\n",
       "      <td>0.023333</td>\n",
       "      <td>-0.02469</td>\n",
       "      <td>0.037033</td>\n",
       "      <td>0.080548</td>\n",
       "      <td>0.026125</td>\n",
       "      <td>-0.039186</td>\n",
       "      <td>-0.085230</td>\n",
       "      <td>0.058777</td>\n",
       "      <td>0.127841</td>\n",
       "      <td>0.278055</td>\n",
       "    </tr>\n",
       "    <tr>\n",
       "      <th>3</th>\n",
       "      <td>-0.462062</td>\n",
       "      <td>0.251980</td>\n",
       "      <td>-0.239792</td>\n",
       "      <td>0.161632</td>\n",
       "      <td>0.540954</td>\n",
       "      <td>0.736691</td>\n",
       "      <td>-0.446339</td>\n",
       "      <td>-0.443713</td>\n",
       "      <td>-0.300975</td>\n",
       "      <td>-1.892641</td>\n",
       "      <td>...</td>\n",
       "      <td>0.023333</td>\n",
       "      <td>-0.02469</td>\n",
       "      <td>-0.005439</td>\n",
       "      <td>0.036379</td>\n",
       "      <td>0.026125</td>\n",
       "      <td>0.005755</td>\n",
       "      <td>-0.038493</td>\n",
       "      <td>0.001268</td>\n",
       "      <td>-0.008480</td>\n",
       "      <td>0.056717</td>\n",
       "    </tr>\n",
       "    <tr>\n",
       "      <th>4</th>\n",
       "      <td>0.097728</td>\n",
       "      <td>-0.554487</td>\n",
       "      <td>-0.001882</td>\n",
       "      <td>0.161632</td>\n",
       "      <td>0.540954</td>\n",
       "      <td>-1.357421</td>\n",
       "      <td>-0.446339</td>\n",
       "      <td>-0.443713</td>\n",
       "      <td>-0.300975</td>\n",
       "      <td>0.528362</td>\n",
       "      <td>...</td>\n",
       "      <td>0.023333</td>\n",
       "      <td>-0.02469</td>\n",
       "      <td>0.034428</td>\n",
       "      <td>0.019005</td>\n",
       "      <td>0.026125</td>\n",
       "      <td>-0.036430</td>\n",
       "      <td>-0.020110</td>\n",
       "      <td>0.050799</td>\n",
       "      <td>0.028042</td>\n",
       "      <td>0.015480</td>\n",
       "    </tr>\n",
       "  </tbody>\n",
       "</table>\n",
       "<p>5 rows × 209 columns</p>\n",
       "</div>"
      ],
      "text/plain": [
       "   ApplicantIncome  CoapplicantIncome  LoanAmount  Loan_Amount_Term  \\\n",
       "0         0.072991          -0.554487   -1.599278          0.161632   \n",
       "1        -0.134412          -0.038731   -0.149160          0.161632   \n",
       "2        -0.393747          -0.554487   -0.851561          0.161632   \n",
       "3        -0.462062           0.251980   -0.239792          0.161632   \n",
       "4         0.097728          -0.554487   -0.001882          0.161632   \n",
       "\n",
       "   Good_Credit  Married_Yes  Dependents_1  Dependents_2  Dependents_3+  \\\n",
       "0     0.540954    -1.357421     -0.446339     -0.443713      -0.300975   \n",
       "1     0.540954     0.736691      2.240448     -0.443713      -0.300975   \n",
       "2     0.540954     0.736691     -0.446339     -0.443713      -0.300975   \n",
       "3     0.540954     0.736691     -0.446339     -0.443713      -0.300975   \n",
       "4     0.540954    -1.357421     -0.446339     -0.443713      -0.300975   \n",
       "\n",
       "   Graduate         ...           Indefinite_Term^2  \\\n",
       "0  0.528362         ...                    0.023333   \n",
       "1  0.528362         ...                    0.023333   \n",
       "2  0.528362         ...                    0.023333   \n",
       "3 -1.892641         ...                    0.023333   \n",
       "4  0.528362         ...                    0.023333   \n",
       "\n",
       "   Indefinite_Term Term_In_Years  Indefinite_Term Payment_Percent  \\\n",
       "0                       -0.02469                         0.075238   \n",
       "1                       -0.02469                         0.026737   \n",
       "2                       -0.02469                         0.037033   \n",
       "3                       -0.02469                        -0.005439   \n",
       "4                       -0.02469                         0.034428   \n",
       "\n",
       "   Indefinite_Term Payment_Per_Month  Term_In_Years^2  \\\n",
       "0                           0.134434         0.026125   \n",
       "1                           0.029606         0.026125   \n",
       "2                           0.080548         0.026125   \n",
       "3                           0.036379         0.026125   \n",
       "4                           0.019005         0.026125   \n",
       "\n",
       "   Term_In_Years Payment_Percent  Term_In_Years Payment_Per_Month  \\\n",
       "0                      -0.079611                        -0.142249   \n",
       "1                      -0.028291                        -0.031327   \n",
       "2                      -0.039186                        -0.085230   \n",
       "3                       0.005755                        -0.038493   \n",
       "4                      -0.036430                        -0.020110   \n",
       "\n",
       "   Payment_Percent^2  Payment_Percent Payment_Per_Month  Payment_Per_Month^2  \n",
       "0           0.242602                           0.433480             0.774540  \n",
       "1           0.030636                           0.033924             0.037565  \n",
       "2           0.058777                           0.127841             0.278055  \n",
       "3           0.001268                          -0.008480             0.056717  \n",
       "4           0.050799                           0.028042             0.015480  \n",
       "\n",
       "[5 rows x 209 columns]"
      ]
     },
     "execution_count": 38,
     "metadata": {},
     "output_type": "execute_result"
    }
   ],
   "source": [
    "ss       = StandardScaler()\n",
    "poly     = PolynomialFeatures(include_bias=False)                   # Init Poly Features\n",
    "features = [i for i in df.columns if i != 'Target']       # Define Features\n",
    "X        = df[features]                                          # Define X\n",
    "X_s_poly = ss.fit_transform(X)\n",
    "X_s_poly = poly.fit_transform(X_s_poly)                                  # Fit & Transform X\n",
    "X_s_poly = pd.DataFrame(X_s_poly, \n",
    "                    columns=poly.get_feature_names(features))   # Create a df to keep it easily understandable\n",
    "\n",
    "X_s_poly.head()"
   ]
  },
  {
   "cell_type": "code",
   "execution_count": 39,
   "metadata": {},
   "outputs": [
    {
     "name": "stdout",
     "output_type": "stream",
     "text": [
      "Train: 0.85\n",
      "Test:  0.7402597402597403\n"
     ]
    }
   ],
   "source": [
    "model    = LogisticRegression()\n",
    "y        = df['Target']\n",
    "\n",
    "X_train, X_test, y_train, y_test = train_test_split(X_s_poly, y) \n",
    "model = model.fit(X_train, y_train)\n",
    "#model.transform(X_test,y_test)\n",
    "\n",
    "print('Train:', model.score(X_train, y_train))\n",
    "print('Test: ', model.score(X_test, y_test))\n",
    "# Hmm, overfit.  Better in a way, but not actually better."
   ]
  },
  {
   "cell_type": "code",
   "execution_count": 40,
   "metadata": {},
   "outputs": [
    {
     "data": {
      "text/html": [
       "<div>\n",
       "<style scoped>\n",
       "    .dataframe tbody tr th:only-of-type {\n",
       "        vertical-align: middle;\n",
       "    }\n",
       "\n",
       "    .dataframe tbody tr th {\n",
       "        vertical-align: top;\n",
       "    }\n",
       "\n",
       "    .dataframe thead th {\n",
       "        text-align: right;\n",
       "    }\n",
       "</style>\n",
       "<table border=\"1\" class=\"dataframe\">\n",
       "  <thead>\n",
       "    <tr style=\"text-align: right;\">\n",
       "      <th></th>\n",
       "      <th>ApplicantIncome</th>\n",
       "      <th>CoapplicantIncome</th>\n",
       "      <th>LoanAmount</th>\n",
       "      <th>Loan_Amount_Term</th>\n",
       "      <th>Good_Credit</th>\n",
       "      <th>Married_Yes</th>\n",
       "      <th>Dependents_1</th>\n",
       "      <th>Dependents_2</th>\n",
       "      <th>Dependents_3+</th>\n",
       "      <th>Graduate</th>\n",
       "      <th>...</th>\n",
       "      <th>Indefinite_Term^2</th>\n",
       "      <th>Indefinite_Term Term_In_Years</th>\n",
       "      <th>Indefinite_Term Payment_Percent</th>\n",
       "      <th>Indefinite_Term Payment_Per_Month</th>\n",
       "      <th>Term_In_Years^2</th>\n",
       "      <th>Term_In_Years Payment_Percent</th>\n",
       "      <th>Term_In_Years Payment_Per_Month</th>\n",
       "      <th>Payment_Percent^2</th>\n",
       "      <th>Payment_Percent Payment_Per_Month</th>\n",
       "      <th>Payment_Per_Month^2</th>\n",
       "    </tr>\n",
       "  </thead>\n",
       "  <tbody>\n",
       "    <tr>\n",
       "      <th>0</th>\n",
       "      <td>0.072991</td>\n",
       "      <td>-0.554487</td>\n",
       "      <td>-1.599278</td>\n",
       "      <td>0.161632</td>\n",
       "      <td>0.540954</td>\n",
       "      <td>-1.357421</td>\n",
       "      <td>-0.446339</td>\n",
       "      <td>-0.443713</td>\n",
       "      <td>-0.300975</td>\n",
       "      <td>0.528362</td>\n",
       "      <td>...</td>\n",
       "      <td>-0.152753</td>\n",
       "      <td>-0.152753</td>\n",
       "      <td>-0.13874</td>\n",
       "      <td>-0.147079</td>\n",
       "      <td>0.059276</td>\n",
       "      <td>-0.668692</td>\n",
       "      <td>-1.599293</td>\n",
       "      <td>-0.079418</td>\n",
       "      <td>-0.129220</td>\n",
       "      <td>-0.132624</td>\n",
       "    </tr>\n",
       "    <tr>\n",
       "      <th>1</th>\n",
       "      <td>-0.134412</td>\n",
       "      <td>-0.038731</td>\n",
       "      <td>-0.149160</td>\n",
       "      <td>0.161632</td>\n",
       "      <td>0.540954</td>\n",
       "      <td>0.736691</td>\n",
       "      <td>2.240448</td>\n",
       "      <td>-0.443713</td>\n",
       "      <td>-0.300975</td>\n",
       "      <td>0.528362</td>\n",
       "      <td>...</td>\n",
       "      <td>-0.152753</td>\n",
       "      <td>-0.152753</td>\n",
       "      <td>-0.13874</td>\n",
       "      <td>-0.147079</td>\n",
       "      <td>0.059276</td>\n",
       "      <td>-0.163025</td>\n",
       "      <td>-0.147300</td>\n",
       "      <td>-0.072975</td>\n",
       "      <td>-0.097278</td>\n",
       "      <td>-0.097426</td>\n",
       "    </tr>\n",
       "    <tr>\n",
       "      <th>2</th>\n",
       "      <td>-0.393747</td>\n",
       "      <td>-0.554487</td>\n",
       "      <td>-0.851561</td>\n",
       "      <td>0.161632</td>\n",
       "      <td>0.540954</td>\n",
       "      <td>0.736691</td>\n",
       "      <td>-0.446339</td>\n",
       "      <td>-0.443713</td>\n",
       "      <td>-0.300975</td>\n",
       "      <td>0.528362</td>\n",
       "      <td>...</td>\n",
       "      <td>-0.152753</td>\n",
       "      <td>-0.152753</td>\n",
       "      <td>-0.13874</td>\n",
       "      <td>-0.147079</td>\n",
       "      <td>0.059276</td>\n",
       "      <td>-0.270377</td>\n",
       "      <td>-0.852904</td>\n",
       "      <td>-0.075421</td>\n",
       "      <td>-0.116286</td>\n",
       "      <td>-0.123323</td>\n",
       "    </tr>\n",
       "    <tr>\n",
       "      <th>3</th>\n",
       "      <td>-0.462062</td>\n",
       "      <td>0.251980</td>\n",
       "      <td>-0.239792</td>\n",
       "      <td>0.161632</td>\n",
       "      <td>0.540954</td>\n",
       "      <td>0.736691</td>\n",
       "      <td>-0.446339</td>\n",
       "      <td>-0.443713</td>\n",
       "      <td>-0.300975</td>\n",
       "      <td>-1.892641</td>\n",
       "      <td>...</td>\n",
       "      <td>-0.152753</td>\n",
       "      <td>-0.152753</td>\n",
       "      <td>-0.13874</td>\n",
       "      <td>-0.147079</td>\n",
       "      <td>0.059276</td>\n",
       "      <td>0.172434</td>\n",
       "      <td>-0.241109</td>\n",
       "      <td>-0.061590</td>\n",
       "      <td>-0.079520</td>\n",
       "      <td>-0.101827</td>\n",
       "    </tr>\n",
       "    <tr>\n",
       "      <th>4</th>\n",
       "      <td>0.097728</td>\n",
       "      <td>-0.554487</td>\n",
       "      <td>-0.001882</td>\n",
       "      <td>0.161632</td>\n",
       "      <td>0.540954</td>\n",
       "      <td>-1.357421</td>\n",
       "      <td>-0.446339</td>\n",
       "      <td>-0.443713</td>\n",
       "      <td>-0.300975</td>\n",
       "      <td>0.528362</td>\n",
       "      <td>...</td>\n",
       "      <td>-0.152753</td>\n",
       "      <td>-0.152753</td>\n",
       "      <td>-0.13874</td>\n",
       "      <td>-0.147079</td>\n",
       "      <td>0.059276</td>\n",
       "      <td>-0.243219</td>\n",
       "      <td>-0.000469</td>\n",
       "      <td>-0.074857</td>\n",
       "      <td>-0.099626</td>\n",
       "      <td>-0.089947</td>\n",
       "    </tr>\n",
       "  </tbody>\n",
       "</table>\n",
       "<p>5 rows × 209 columns</p>\n",
       "</div>"
      ],
      "text/plain": [
       "   ApplicantIncome  CoapplicantIncome  LoanAmount  Loan_Amount_Term  \\\n",
       "0         0.072991          -0.554487   -1.599278          0.161632   \n",
       "1        -0.134412          -0.038731   -0.149160          0.161632   \n",
       "2        -0.393747          -0.554487   -0.851561          0.161632   \n",
       "3        -0.462062           0.251980   -0.239792          0.161632   \n",
       "4         0.097728          -0.554487   -0.001882          0.161632   \n",
       "\n",
       "   Good_Credit  Married_Yes  Dependents_1  Dependents_2  Dependents_3+  \\\n",
       "0     0.540954    -1.357421     -0.446339     -0.443713      -0.300975   \n",
       "1     0.540954     0.736691      2.240448     -0.443713      -0.300975   \n",
       "2     0.540954     0.736691     -0.446339     -0.443713      -0.300975   \n",
       "3     0.540954     0.736691     -0.446339     -0.443713      -0.300975   \n",
       "4     0.540954    -1.357421     -0.446339     -0.443713      -0.300975   \n",
       "\n",
       "   Graduate         ...           Indefinite_Term^2  \\\n",
       "0  0.528362         ...                   -0.152753   \n",
       "1  0.528362         ...                   -0.152753   \n",
       "2  0.528362         ...                   -0.152753   \n",
       "3 -1.892641         ...                   -0.152753   \n",
       "4  0.528362         ...                   -0.152753   \n",
       "\n",
       "   Indefinite_Term Term_In_Years  Indefinite_Term Payment_Percent  \\\n",
       "0                      -0.152753                         -0.13874   \n",
       "1                      -0.152753                         -0.13874   \n",
       "2                      -0.152753                         -0.13874   \n",
       "3                      -0.152753                         -0.13874   \n",
       "4                      -0.152753                         -0.13874   \n",
       "\n",
       "   Indefinite_Term Payment_Per_Month  Term_In_Years^2  \\\n",
       "0                          -0.147079         0.059276   \n",
       "1                          -0.147079         0.059276   \n",
       "2                          -0.147079         0.059276   \n",
       "3                          -0.147079         0.059276   \n",
       "4                          -0.147079         0.059276   \n",
       "\n",
       "   Term_In_Years Payment_Percent  Term_In_Years Payment_Per_Month  \\\n",
       "0                      -0.668692                        -1.599293   \n",
       "1                      -0.163025                        -0.147300   \n",
       "2                      -0.270377                        -0.852904   \n",
       "3                       0.172434                        -0.241109   \n",
       "4                      -0.243219                        -0.000469   \n",
       "\n",
       "   Payment_Percent^2  Payment_Percent Payment_Per_Month  Payment_Per_Month^2  \n",
       "0          -0.079418                          -0.129220            -0.132624  \n",
       "1          -0.072975                          -0.097278            -0.097426  \n",
       "2          -0.075421                          -0.116286            -0.123323  \n",
       "3          -0.061590                          -0.079520            -0.101827  \n",
       "4          -0.074857                          -0.099626            -0.089947  \n",
       "\n",
       "[5 rows x 209 columns]"
      ]
     },
     "execution_count": 40,
     "metadata": {},
     "output_type": "execute_result"
    }
   ],
   "source": [
    "ss       = StandardScaler()\n",
    "poly     = PolynomialFeatures(include_bias=False)                   # Init Poly Features\n",
    "features = [i for i in df.columns if i != 'Target']       # Define Features\n",
    "X        = df[features]                                          # Define X\n",
    "X_p_scaled = poly.fit_transform(X)                                  # Fit & Transform X\n",
    "X_p_scaled = ss.fit_transform(X_p_scaled)\n",
    "\n",
    "\n",
    "X_p_scaled = pd.DataFrame(X_p_scaled, \n",
    "                    columns=poly.get_feature_names(features))   # Create a df to keep it easily understandable\n",
    "\n",
    "X_p_scaled.head()"
   ]
  },
  {
   "cell_type": "code",
   "execution_count": 41,
   "metadata": {},
   "outputs": [
    {
     "name": "stdout",
     "output_type": "stream",
     "text": [
      "Train: 0.8565217391304348\n",
      "Test:  0.6883116883116883\n"
     ]
    }
   ],
   "source": [
    "model    = LogisticRegression()\n",
    "y        = df['Target']\n",
    "\n",
    "X_train, X_test, y_train, y_test = train_test_split(X_p_scaled, y) \n",
    "model = model.fit(X_train, y_train)\n",
    "#model.transform(X_test,y_test)\n",
    "\n",
    "print('Train:', model.score(X_train, y_train))\n",
    "print('Test: ', model.score(X_test, y_test))\n",
    "# Welp.  That's unfortunate."
   ]
  },
  {
   "cell_type": "code",
   "execution_count": 42,
   "metadata": {},
   "outputs": [
    {
     "ename": "NameError",
     "evalue": "name 'df_engineered' is not defined",
     "output_type": "error",
     "traceback": [
      "\u001b[0;31m---------------------------------------------------------------------------\u001b[0m",
      "\u001b[0;31mNameError\u001b[0m                                 Traceback (most recent call last)",
      "\u001b[0;32m<ipython-input-42-710b29560dd1>\u001b[0m in \u001b[0;36m<module>\u001b[0;34m()\u001b[0m\n\u001b[0;32m----> 1\u001b[0;31m \u001b[0mdf_engineered\u001b[0m\u001b[0;34m[\u001b[0m\u001b[0;34m'Target'\u001b[0m\u001b[0;34m]\u001b[0m \u001b[0;34m=\u001b[0m \u001b[0mdf\u001b[0m\u001b[0;34m[\u001b[0m\u001b[0;34m'Target'\u001b[0m\u001b[0;34m]\u001b[0m\u001b[0;34m\u001b[0m\u001b[0m\n\u001b[0m\u001b[1;32m      2\u001b[0m \u001b[0mstated_corrs\u001b[0m \u001b[0;34m=\u001b[0m \u001b[0mdf_engineered\u001b[0m\u001b[0;34m.\u001b[0m\u001b[0mcorr\u001b[0m\u001b[0;34m(\u001b[0m\u001b[0;34m)\u001b[0m\u001b[0;34m[\u001b[0m\u001b[0;34m[\u001b[0m\u001b[0;34m'Target'\u001b[0m\u001b[0;34m]\u001b[0m\u001b[0;34m]\u001b[0m\u001b[0;34m.\u001b[0m\u001b[0msort_values\u001b[0m\u001b[0;34m(\u001b[0m\u001b[0;34m[\u001b[0m\u001b[0;34m'Target'\u001b[0m\u001b[0;34m]\u001b[0m\u001b[0;34m)\u001b[0m\u001b[0;34m\u001b[0m\u001b[0m\n\u001b[1;32m      3\u001b[0m \u001b[0mstated_corrs\u001b[0m\u001b[0;34m.\u001b[0m\u001b[0mhead\u001b[0m\u001b[0;34m(\u001b[0m\u001b[0;36m10\u001b[0m\u001b[0;34m)\u001b[0m\u001b[0;34m\u001b[0m\u001b[0m\n",
      "\u001b[0;31mNameError\u001b[0m: name 'df_engineered' is not defined"
     ]
    }
   ],
   "source": [
    "df_engineered['Target'] = df['Target']\n",
    "stated_corrs = df_engineered.corr()[['Target']].sort_values(['Target'])\n",
    "stated_corrs.head(10)"
   ]
  },
  {
   "cell_type": "code",
   "execution_count": 43,
   "metadata": {},
   "outputs": [
    {
     "ename": "NameError",
     "evalue": "name 'stated_corrs' is not defined",
     "output_type": "error",
     "traceback": [
      "\u001b[0;31m---------------------------------------------------------------------------\u001b[0m",
      "\u001b[0;31mNameError\u001b[0m                                 Traceback (most recent call last)",
      "\u001b[0;32m<ipython-input-43-f10936439e0a>\u001b[0m in \u001b[0;36m<module>\u001b[0;34m()\u001b[0m\n\u001b[0;32m----> 1\u001b[0;31m \u001b[0mstated_corrs\u001b[0m\u001b[0;34m.\u001b[0m\u001b[0mtail\u001b[0m\u001b[0;34m(\u001b[0m\u001b[0;36m10\u001b[0m\u001b[0;34m)\u001b[0m\u001b[0;34m\u001b[0m\u001b[0m\n\u001b[0m",
      "\u001b[0;31mNameError\u001b[0m: name 'stated_corrs' is not defined"
     ]
    }
   ],
   "source": [
    "stated_corrs.tail(10)"
   ]
  },
  {
   "cell_type": "code",
   "execution_count": 255,
   "metadata": {},
   "outputs": [
    {
     "name": "stdout",
     "output_type": "stream",
     "text": [
      "9\n"
     ]
    },
    {
     "data": {
      "text/plain": [
       "['Good_Credit',\n",
       " 'LoanAmount Good_Credit',\n",
       " 'Loan_Amount_Term Good_Credit',\n",
       " 'Good_Credit^2',\n",
       " 'Good_Credit Married_Yes',\n",
       " 'Good_Credit Graduate',\n",
       " 'Good_Credit Property_Semiurban',\n",
       " 'Good_Credit Coapplicant_True',\n",
       " 'Good_Credit Term_In_Years']"
      ]
     },
     "execution_count": 255,
     "metadata": {},
     "output_type": "execute_result"
    }
   ],
   "source": [
    "# To see the amount and exact list of features within each range\n",
    "df_engineered['Target'] = df['Target']\n",
    "corrs = df_engineered.corr()[['Target']]\n",
    "\n",
    "mask = abs(corrs['Target']) > 0.2\n",
    "features = [i for i in corrs[mask].index]\n",
    "features.remove('Target')\n",
    "print(len(features))\n",
    "features"
   ]
  },
  {
   "cell_type": "code",
   "execution_count": 263,
   "metadata": {},
   "outputs": [
    {
     "name": "stdout",
     "output_type": "stream",
     "text": [
      "Train:     0.8\n",
      "Test:      0.7402597402597403\n",
      "Cross Val: 0.7263589988841065\n"
     ]
    }
   ],
   "source": [
    "ss         = StandardScaler()\n",
    "poly       = PolynomialFeatures(include_bias=False)             # Init Poly Features\n",
    "model      = LogisticRegression()\n",
    "\n",
    "features   = [i for i in df.columns if i != 'Target']     # Define Features\n",
    "X          = df[features]                                 # Define X\n",
    "X_poly     = poly.fit_transform(X)                              # Fit & Transform X into X_poly\n",
    "X_p_scaled = ss.fit_transform(X_poly)                           # X_poly scaled\n",
    "df_eng = pd.DataFrame(X_p_scaled, \n",
    "                    columns=poly.get_feature_names(features))   # Create a df to keep it easily understandable\n",
    "y          = df['Target']                                       # Defining y\n",
    "\n",
    "df_eng['Target'] = df['Target']                           # Reattaching Target to deduce the correlations\n",
    "#df_eng                                                         # Is entire engineered DF with Target\n",
    "\n",
    "corrs       = df_eng.corr()[['Target']]                         # Correlating features to the Target & defining\n",
    "#corrs                                                          # df of feature columns corrs to Target\n",
    "\n",
    "mask        = abs(corrs['Target']) > 0.07                       # Setting Mask w/correlation limit\n",
    "\n",
    "features    = [i for i in corrs[mask].index]                    # Creating list of features within that threshold\n",
    "features.remove('Target')                                       # List of feature names within Correlation Limit w/o Target\n",
    "features  \n",
    "\n",
    "X_eng_corr  = df_eng[features]\n",
    "X_eng_corr  # Engineered features with a limitation on only shoing those that are correlated\n",
    "\n",
    "X_train, X_test, y_train, y_test = train_test_split(X_eng_corr, y) \n",
    "model = model.fit(X_train, y_train)\n",
    "\n",
    "print('Train:    ', model.score(X_train, y_train))\n",
    "print('Test:     ', model.score(X_test, y_test))\n",
    "print('Cross Val:', cross_val_score(model, X_eng_corr, y).mean())\n",
    "# Welp.  That's unfortunate."
   ]
  },
  {
   "cell_type": "markdown",
   "metadata": {},
   "source": [
    "After trying a number of different correlation limits I've decided to return this project to the shelf.  Furthermore, I'm confident that after more review, and potentially reintroducing more ML models from KNN to Neural Net that I'll be more able to get a better score as I suspect that the accedental model below was the result of an accedental ensemble."
   ]
  },
  {
   "cell_type": "markdown",
   "metadata": {},
   "source": [
    "Unfortunatly in my mess I accedentally made a pretty solid model that performed well.  However, I didn't keep good enough track of how this happened and as such how I accedentally acomplished this is lost.\n",
    "The code I had ran was:\n",
    " - cross_val_score(lr, X_poly, y).mean()\n",
    " - It resulted in an 0.84%\n",
    " - This has been a learning expierence for doing general work in the future and doing a better job of keeping everything new right below my most recent work"
   ]
  },
  {
   "cell_type": "code",
   "execution_count": 137,
   "metadata": {},
   "outputs": [
    {
     "data": {
      "text/plain": [
       "0.843687230989957"
      ]
     },
     "execution_count": 137,
     "metadata": {},
     "output_type": "execute_result"
    }
   ],
   "source": [
    "cross_val_score(lr, X_poly, y).mean()"
   ]
  },
  {
   "cell_type": "code",
   "execution_count": null,
   "metadata": {},
   "outputs": [],
   "source": []
  },
  {
   "cell_type": "markdown",
   "metadata": {},
   "source": [
    "Here endith the code that's been most recently run within the Laboratory but not moved to the model section."
   ]
  },
  {
   "cell_type": "code",
   "execution_count": null,
   "metadata": {},
   "outputs": [],
   "source": []
  },
  {
   "cell_type": "code",
   "execution_count": null,
   "metadata": {},
   "outputs": [],
   "source": []
  },
  {
   "cell_type": "code",
   "execution_count": null,
   "metadata": {},
   "outputs": [],
   "source": []
  },
  {
   "cell_type": "code",
   "execution_count": 135,
   "metadata": {},
   "outputs": [
    {
     "ename": "AttributeError",
     "evalue": "'LogisticRegression' object has no attribute 'fit_transform'",
     "output_type": "error",
     "traceback": [
      "\u001b[0;31m---------------------------------------------------------------------------\u001b[0m",
      "\u001b[0;31mAttributeError\u001b[0m                            Traceback (most recent call last)",
      "\u001b[0;32m<ipython-input-135-b837b5f1c30a>\u001b[0m in \u001b[0;36m<module>\u001b[0;34m()\u001b[0m\n\u001b[1;32m      5\u001b[0m \u001b[0;34m\u001b[0m\u001b[0m\n\u001b[1;32m      6\u001b[0m \u001b[0mX_train\u001b[0m\u001b[0;34m,\u001b[0m \u001b[0mX_test\u001b[0m\u001b[0;34m,\u001b[0m \u001b[0my_train\u001b[0m\u001b[0;34m,\u001b[0m \u001b[0my_test\u001b[0m \u001b[0;34m=\u001b[0m \u001b[0mtrain_test_split\u001b[0m\u001b[0;34m(\u001b[0m\u001b[0mX\u001b[0m\u001b[0;34m,\u001b[0m \u001b[0my\u001b[0m\u001b[0;34m)\u001b[0m\u001b[0;34m\u001b[0m\u001b[0m\n\u001b[0;32m----> 7\u001b[0;31m \u001b[0mmodel\u001b[0m \u001b[0;34m=\u001b[0m \u001b[0mmodel\u001b[0m\u001b[0;34m.\u001b[0m\u001b[0mfit_transform\u001b[0m\u001b[0;34m(\u001b[0m\u001b[0mX_train\u001b[0m\u001b[0;34m,\u001b[0m\u001b[0my_train\u001b[0m\u001b[0;34m)\u001b[0m\u001b[0;34m\u001b[0m\u001b[0m\n\u001b[0m\u001b[1;32m      8\u001b[0m \u001b[0;31m#model.transform(X_test,y_test)\u001b[0m\u001b[0;34m\u001b[0m\u001b[0;34m\u001b[0m\u001b[0m\n\u001b[1;32m      9\u001b[0m \u001b[0;34m\u001b[0m\u001b[0m\n",
      "\u001b[0;31mAttributeError\u001b[0m: 'LogisticRegression' object has no attribute 'fit_transform'"
     ]
    }
   ],
   "source": [
    "model    = LogisticRegression()\n",
    "features = [i for i in df.columns if i != 'Target']\n",
    "X        = df[features]\n",
    "y        = df['Target']\n",
    "\n",
    "X_train, X_test, y_train, y_test = train_test_split(X, y) \n",
    "model = model.fit_transform(X_train,y_train)\n",
    "#model.transform(X_test,y_test)\n",
    "\n",
    "print('Train:', model.score(X_train,y_train))\n",
    "print('Test: ', model.score(X_test,y_test))\n"
   ]
  },
  {
   "cell_type": "code",
   "execution_count": 59,
   "metadata": {},
   "outputs": [],
   "source": [
    "model = test_model\n",
    "log_reg = LogisticRegression()\n",
    "#X_train, X_test, y_train, y_test = train_test_split(df[features], df[target]) \n",
    "model = log_reg.fit(df[features],df['Target'])\n",
    "\n",
    "    #print('Train:', model.score(X_train,y_train))\n",
    "    #print"
   ]
  },
  {
   "cell_type": "code",
   "execution_count": 126,
   "metadata": {},
   "outputs": [
    {
     "data": {
      "text/plain": [
       "1.0"
      ]
     },
     "execution_count": 126,
     "metadata": {},
     "output_type": "execute_result"
    }
   ],
   "source": [
    "# OMG, I forgot how much better Cross Validation Scores can help\n",
    "X = df[features]\n",
    "y = df['Target'] \n",
    "lr = LogisticRegression()\n",
    "cross_val_score(lr, X, y).mean()"
   ]
  },
  {
   "cell_type": "code",
   "execution_count": 152,
   "metadata": {},
   "outputs": [
    {
     "data": {
      "text/plain": [
       "0.7101626016260162"
      ]
     },
     "execution_count": 152,
     "metadata": {},
     "output_type": "execute_result"
    }
   ],
   "source": [
    "cross_val_score(lr, X_poly, y).mean()"
   ]
  },
  {
   "cell_type": "code",
   "execution_count": 113,
   "metadata": {
    "scrolled": true
   },
   "outputs": [
    {
     "ename": "ValueError",
     "evalue": "Must pass DataFrame with boolean values only",
     "output_type": "error",
     "traceback": [
      "\u001b[0;31m---------------------------------------------------------------------------\u001b[0m",
      "\u001b[0;31mValueError\u001b[0m                                Traceback (most recent call last)",
      "\u001b[0;32m<ipython-input-113-879fda3489da>\u001b[0m in \u001b[0;36m<module>\u001b[0;34m()\u001b[0m\n\u001b[0;32m----> 1\u001b[0;31m \u001b[0mtest_model\u001b[0m\u001b[0;34m(\u001b[0m\u001b[0mtrain_df\u001b[0m\u001b[0;34m,\u001b[0m \u001b[0mLogisticRegression\u001b[0m\u001b[0;34m(\u001b[0m\u001b[0;34m)\u001b[0m\u001b[0;34m,\u001b[0m \u001b[0mX_poly\u001b[0m\u001b[0;34m)\u001b[0m\u001b[0;34m\u001b[0m\u001b[0m\n\u001b[0m",
      "\u001b[0;32m<ipython-input-25-44a107c53842>\u001b[0m in \u001b[0;36mtest_model\u001b[0;34m(df, test_model, features, target)\u001b[0m\n\u001b[1;32m      1\u001b[0m \u001b[0;32mdef\u001b[0m \u001b[0mtest_model\u001b[0m\u001b[0;34m(\u001b[0m\u001b[0mdf\u001b[0m\u001b[0;34m,\u001b[0m \u001b[0mtest_model\u001b[0m\u001b[0;34m,\u001b[0m \u001b[0mfeatures\u001b[0m\u001b[0;34m,\u001b[0m \u001b[0mtarget\u001b[0m \u001b[0;34m=\u001b[0m \u001b[0;34m'Target'\u001b[0m\u001b[0;34m)\u001b[0m\u001b[0;34m:\u001b[0m\u001b[0;34m\u001b[0m\u001b[0m\n\u001b[1;32m      2\u001b[0m     \u001b[0mmodel\u001b[0m \u001b[0;34m=\u001b[0m \u001b[0mtest_model\u001b[0m\u001b[0;34m\u001b[0m\u001b[0m\n\u001b[0;32m----> 3\u001b[0;31m     \u001b[0mX_train\u001b[0m\u001b[0;34m,\u001b[0m \u001b[0mX_test\u001b[0m\u001b[0;34m,\u001b[0m \u001b[0my_train\u001b[0m\u001b[0;34m,\u001b[0m \u001b[0my_test\u001b[0m \u001b[0;34m=\u001b[0m \u001b[0mtrain_test_split\u001b[0m\u001b[0;34m(\u001b[0m\u001b[0mdf\u001b[0m\u001b[0;34m[\u001b[0m\u001b[0mfeatures\u001b[0m\u001b[0;34m]\u001b[0m\u001b[0;34m,\u001b[0m \u001b[0mdf\u001b[0m\u001b[0;34m[\u001b[0m\u001b[0mtarget\u001b[0m\u001b[0;34m]\u001b[0m\u001b[0;34m)\u001b[0m\u001b[0;34m\u001b[0m\u001b[0m\n\u001b[0m\u001b[1;32m      4\u001b[0m     \u001b[0mmodel\u001b[0m \u001b[0;34m=\u001b[0m \u001b[0mmodel\u001b[0m\u001b[0;34m.\u001b[0m\u001b[0mfit\u001b[0m\u001b[0;34m(\u001b[0m\u001b[0mX_train\u001b[0m\u001b[0;34m,\u001b[0m\u001b[0my_train\u001b[0m\u001b[0;34m)\u001b[0m\u001b[0;34m\u001b[0m\u001b[0m\n\u001b[1;32m      5\u001b[0m \u001b[0;34m\u001b[0m\u001b[0m\n",
      "\u001b[0;32m/anaconda3/lib/python3.7/site-packages/pandas/core/frame.py\u001b[0m in \u001b[0;36m__getitem__\u001b[0;34m(self, key)\u001b[0m\n\u001b[1;32m   2682\u001b[0m             \u001b[0;32mreturn\u001b[0m \u001b[0mself\u001b[0m\u001b[0;34m.\u001b[0m\u001b[0m_getitem_array\u001b[0m\u001b[0;34m(\u001b[0m\u001b[0mkey\u001b[0m\u001b[0;34m)\u001b[0m\u001b[0;34m\u001b[0m\u001b[0m\n\u001b[1;32m   2683\u001b[0m         \u001b[0;32melif\u001b[0m \u001b[0misinstance\u001b[0m\u001b[0;34m(\u001b[0m\u001b[0mkey\u001b[0m\u001b[0;34m,\u001b[0m \u001b[0mDataFrame\u001b[0m\u001b[0;34m)\u001b[0m\u001b[0;34m:\u001b[0m\u001b[0;34m\u001b[0m\u001b[0m\n\u001b[0;32m-> 2684\u001b[0;31m             \u001b[0;32mreturn\u001b[0m \u001b[0mself\u001b[0m\u001b[0;34m.\u001b[0m\u001b[0m_getitem_frame\u001b[0m\u001b[0;34m(\u001b[0m\u001b[0mkey\u001b[0m\u001b[0;34m)\u001b[0m\u001b[0;34m\u001b[0m\u001b[0m\n\u001b[0m\u001b[1;32m   2685\u001b[0m         \u001b[0;32melif\u001b[0m \u001b[0mis_mi_columns\u001b[0m\u001b[0;34m:\u001b[0m\u001b[0;34m\u001b[0m\u001b[0m\n\u001b[1;32m   2686\u001b[0m             \u001b[0;32mreturn\u001b[0m \u001b[0mself\u001b[0m\u001b[0;34m.\u001b[0m\u001b[0m_getitem_multilevel\u001b[0m\u001b[0;34m(\u001b[0m\u001b[0mkey\u001b[0m\u001b[0;34m)\u001b[0m\u001b[0;34m\u001b[0m\u001b[0m\n",
      "\u001b[0;32m/anaconda3/lib/python3.7/site-packages/pandas/core/frame.py\u001b[0m in \u001b[0;36m_getitem_frame\u001b[0;34m(self, key)\u001b[0m\n\u001b[1;32m   2765\u001b[0m     \u001b[0;32mdef\u001b[0m \u001b[0m_getitem_frame\u001b[0m\u001b[0;34m(\u001b[0m\u001b[0mself\u001b[0m\u001b[0;34m,\u001b[0m \u001b[0mkey\u001b[0m\u001b[0;34m)\u001b[0m\u001b[0;34m:\u001b[0m\u001b[0;34m\u001b[0m\u001b[0m\n\u001b[1;32m   2766\u001b[0m         \u001b[0;32mif\u001b[0m \u001b[0mkey\u001b[0m\u001b[0;34m.\u001b[0m\u001b[0mvalues\u001b[0m\u001b[0;34m.\u001b[0m\u001b[0msize\u001b[0m \u001b[0;32mand\u001b[0m \u001b[0;32mnot\u001b[0m \u001b[0mis_bool_dtype\u001b[0m\u001b[0;34m(\u001b[0m\u001b[0mkey\u001b[0m\u001b[0;34m.\u001b[0m\u001b[0mvalues\u001b[0m\u001b[0;34m)\u001b[0m\u001b[0;34m:\u001b[0m\u001b[0;34m\u001b[0m\u001b[0m\n\u001b[0;32m-> 2767\u001b[0;31m             \u001b[0;32mraise\u001b[0m \u001b[0mValueError\u001b[0m\u001b[0;34m(\u001b[0m\u001b[0;34m'Must pass DataFrame with boolean values only'\u001b[0m\u001b[0;34m)\u001b[0m\u001b[0;34m\u001b[0m\u001b[0m\n\u001b[0m\u001b[1;32m   2768\u001b[0m         \u001b[0;32mreturn\u001b[0m \u001b[0mself\u001b[0m\u001b[0;34m.\u001b[0m\u001b[0mwhere\u001b[0m\u001b[0;34m(\u001b[0m\u001b[0mkey\u001b[0m\u001b[0;34m)\u001b[0m\u001b[0;34m\u001b[0m\u001b[0m\n\u001b[1;32m   2769\u001b[0m \u001b[0;34m\u001b[0m\u001b[0m\n",
      "\u001b[0;31mValueError\u001b[0m: Must pass DataFrame with boolean values only"
     ]
    }
   ],
   "source": [
    "test_model(df, LogisticRegression(), X_poly)\n"
   ]
  },
  {
   "cell_type": "code",
   "execution_count": 151,
   "metadata": {},
   "outputs": [
    {
     "data": {
      "text/plain": [
       "1.0"
      ]
     },
     "execution_count": 151,
     "metadata": {},
     "output_type": "execute_result"
    }
   ],
   "source": [
    "cross_val_score(lr, X_scaled, y).mean()"
   ]
  },
  {
   "cell_type": "code",
   "execution_count": 122,
   "metadata": {},
   "outputs": [
    {
     "data": {
      "text/plain": [
       "array([2.92386485e+03, 4.18490722e-01, 4.77529318e-01, 3.70724253e-01,\n",
       "       4.13051921e-01, 4.54467439e-01, 4.85257300e-01, 4.63594707e-01,\n",
       "       4.96924194e-01, 2.44340003e-01, 8.72086058e+07, 2.32892212e+03,\n",
       "       1.85071330e+03, 1.20644279e+03, 2.94060339e+03, 1.21781071e+03,\n",
       "       1.56713778e+03, 1.73973202e+03, 2.92386485e+03, 7.86991716e+03,\n",
       "       4.18490722e-01, 4.99989390e-01, 3.38405757e-01, 4.85658904e-01,\n",
       "       4.16342842e-01, 4.60220934e-01, 4.86444761e-01, 4.94599424e-01,\n",
       "       1.45131798e-01, 4.77529318e-01, 3.58502315e-01, 4.99989390e-01,\n",
       "       3.91449096e-01, 4.30636263e-01, 4.98714514e-01, 4.96355378e-01,\n",
       "       1.57318012e-01, 3.70724253e-01, 3.31180025e-01, 2.12133160e-01,\n",
       "       2.37969007e-01, 3.29328687e-01, 3.05564545e-01, 7.08300828e-02,\n",
       "       4.13051921e-01, 4.09676301e-01, 4.60220934e-01, 4.97102982e-01,\n",
       "       4.93850716e-01, 2.41198189e-01, 4.54467439e-01, 1.00000000e+00,\n",
       "       3.83480460e-01, 3.79339002e-01, 1.19755434e-01, 4.85257300e-01,\n",
       "       4.54467439e-01, 4.05040052e-01, 9.61737066e-02, 4.63594707e-01,\n",
       "       4.89697463e-01, 1.22260779e-01, 4.96924194e-01, 2.46453622e-01,\n",
       "       9.34113305e-01])"
      ]
     },
     "execution_count": 122,
     "metadata": {},
     "output_type": "execute_result"
    }
   ],
   "source": [
    "#ss.\n",
    "# Can alsso try Lasso & Ridge\n",
    "# Other Scaler?"
   ]
  },
  {
   "cell_type": "code",
   "execution_count": 110,
   "metadata": {},
   "outputs": [],
   "source": [
    "ss = StandardScaler()\n",
    "X_scaled = ss.fit_transform(X_poly)\n",
    "#pd.DataFrame(X_scaled, columns=features).head()"
   ]
  },
  {
   "cell_type": "code",
   "execution_count": 161,
   "metadata": {},
   "outputs": [
    {
     "data": {
      "text/plain": [
       "Property_Rural       -0.100694\n",
       "Payment_Percent      -0.065106\n",
       "CoapplicantIncome    -0.059188\n",
       "Property_Urban       -0.043621\n",
       "Dependents_1         -0.038740\n",
       "Indefinite_Term      -0.038178\n",
       "Loan_Amount_Term     -0.037607\n",
       "Term_In_Years        -0.037607\n",
       "Dependents_3+        -0.026123\n",
       "Gender_Female        -0.017987\n",
       "LoanAmount           -0.010631\n",
       "ApplicantIncome      -0.004710\n",
       "Self_Employed        -0.003700\n",
       "Payment_Per_Month     0.002412\n",
       "Dependents_2          0.062384\n",
       "Coapplicant_True      0.075165\n",
       "Married_Yes           0.084281\n",
       "Graduate              0.085884\n",
       "Property_Semiurban    0.136540\n",
       "Good_Credit           0.432616\n",
       "Target                1.000000\n",
       "Name: Target, dtype: float64"
      ]
     },
     "execution_count": 161,
     "metadata": {},
     "output_type": "execute_result"
    }
   ],
   "source": [
    "list_corrs(df,'Target')"
   ]
  },
  {
   "cell_type": "code",
   "execution_count": 150,
   "metadata": {},
   "outputs": [
    {
     "data": {
      "text/plain": [
       "0.7752442996742671"
      ]
     },
     "execution_count": 150,
     "metadata": {},
     "output_type": "execute_result"
    }
   ],
   "source": [
    "# Code for listing Columns above the 0.05 threshold of correlation.\n",
    "corrs = df.corr()[['Target']]\n",
    "mask = abs(corrs['Target']) > 0.05\n",
    "\n",
    "log_reg = LogisticRegression()\n",
    "features = [i for i in corrs[mask].index]\n",
    "y = df['Target']\n",
    "\n",
    "model = log_reg.fit(X,y)\n",
    "model.score(X,y)\n"
   ]
  },
  {
   "cell_type": "code",
   "execution_count": 138,
   "metadata": {},
   "outputs": [
    {
     "ename": "SyntaxError",
     "evalue": "invalid syntax (<ipython-input-138-a637977f4cc8>, line 1)",
     "output_type": "error",
     "traceback": [
      "\u001b[0;36m  File \u001b[0;32m\"<ipython-input-138-a637977f4cc8>\"\u001b[0;36m, line \u001b[0;32m1\u001b[0m\n\u001b[0;31m    [i for i in corrs[mask].index]]\u001b[0m\n\u001b[0m                                  ^\u001b[0m\n\u001b[0;31mSyntaxError\u001b[0m\u001b[0;31m:\u001b[0m invalid syntax\n"
     ]
    }
   ],
   "source": [
    "[i for i in corrs[mask].index]]"
   ]
  },
  {
   "cell_type": "markdown",
   "metadata": {},
   "source": [
    "## Code Recycling Bin\n",
    " - For when I want to get old code out of the way, but am not yet confident about deleting it altogether."
   ]
  },
  {
   "cell_type": "code",
   "execution_count": null,
   "metadata": {},
   "outputs": [],
   "source": []
  },
  {
   "cell_type": "code",
   "execution_count": 44,
   "metadata": {},
   "outputs": [
    {
     "ename": "KeyError",
     "evalue": "'Class_col_2(Target)'",
     "output_type": "error",
     "traceback": [
      "\u001b[0;31m---------------------------------------------------------------------------\u001b[0m",
      "\u001b[0;31mKeyError\u001b[0m                                  Traceback (most recent call last)",
      "\u001b[0;32m/anaconda3/lib/python3.7/site-packages/pandas/core/indexes/base.py\u001b[0m in \u001b[0;36mget_loc\u001b[0;34m(self, key, method, tolerance)\u001b[0m\n\u001b[1;32m   3077\u001b[0m             \u001b[0;32mtry\u001b[0m\u001b[0;34m:\u001b[0m\u001b[0;34m\u001b[0m\u001b[0m\n\u001b[0;32m-> 3078\u001b[0;31m                 \u001b[0;32mreturn\u001b[0m \u001b[0mself\u001b[0m\u001b[0;34m.\u001b[0m\u001b[0m_engine\u001b[0m\u001b[0;34m.\u001b[0m\u001b[0mget_loc\u001b[0m\u001b[0;34m(\u001b[0m\u001b[0mkey\u001b[0m\u001b[0;34m)\u001b[0m\u001b[0;34m\u001b[0m\u001b[0m\n\u001b[0m\u001b[1;32m   3079\u001b[0m             \u001b[0;32mexcept\u001b[0m \u001b[0mKeyError\u001b[0m\u001b[0;34m:\u001b[0m\u001b[0;34m\u001b[0m\u001b[0m\n",
      "\u001b[0;32mpandas/_libs/index.pyx\u001b[0m in \u001b[0;36mpandas._libs.index.IndexEngine.get_loc\u001b[0;34m()\u001b[0m\n",
      "\u001b[0;32mpandas/_libs/index.pyx\u001b[0m in \u001b[0;36mpandas._libs.index.IndexEngine.get_loc\u001b[0;34m()\u001b[0m\n",
      "\u001b[0;32mpandas/_libs/hashtable_class_helper.pxi\u001b[0m in \u001b[0;36mpandas._libs.hashtable.PyObjectHashTable.get_item\u001b[0;34m()\u001b[0m\n",
      "\u001b[0;32mpandas/_libs/hashtable_class_helper.pxi\u001b[0m in \u001b[0;36mpandas._libs.hashtable.PyObjectHashTable.get_item\u001b[0;34m()\u001b[0m\n",
      "\u001b[0;31mKeyError\u001b[0m: 'Class_col_2(Target)'",
      "\nDuring handling of the above exception, another exception occurred:\n",
      "\u001b[0;31mKeyError\u001b[0m                                  Traceback (most recent call last)",
      "\u001b[0;32m<ipython-input-44-f54f39ac6c43>\u001b[0m in \u001b[0;36m<module>\u001b[0;34m()\u001b[0m\n\u001b[0;32m----> 1\u001b[0;31m \u001b[0mGrid\u001b[0m \u001b[0;34m=\u001b[0m \u001b[0msns\u001b[0m\u001b[0;34m.\u001b[0m\u001b[0mFacetGrid\u001b[0m\u001b[0;34m(\u001b[0m\u001b[0mdf\u001b[0m\u001b[0;34m,\u001b[0m \u001b[0mcol\u001b[0m\u001b[0;34m=\u001b[0m\u001b[0;34m\"Class_col_1\"\u001b[0m\u001b[0;34m,\u001b[0m \u001b[0mrow\u001b[0m\u001b[0;34m=\u001b[0m\u001b[0;34m\"Class_col_2(Target)\"\u001b[0m\u001b[0;34m,\u001b[0m \u001b[0mmargin_titles\u001b[0m\u001b[0;34m=\u001b[0m\u001b[0;32mTrue\u001b[0m\u001b[0;34m)\u001b[0m\u001b[0;34m\u001b[0m\u001b[0m\n\u001b[0m\u001b[1;32m      2\u001b[0m \u001b[0mGrid\u001b[0m\u001b[0;34m.\u001b[0m\u001b[0mmap\u001b[0m\u001b[0;34m(\u001b[0m\u001b[0mplt\u001b[0m\u001b[0;34m.\u001b[0m\u001b[0mhist\u001b[0m\u001b[0;34m,\u001b[0m\u001b[0;34m'Quantative_col'\u001b[0m\u001b[0;34m,\u001b[0m \u001b[0mbins\u001b[0m \u001b[0;34m=\u001b[0m \u001b[0;36m15\u001b[0m\u001b[0;34m)\u001b[0m\u001b[0;34m;\u001b[0m\u001b[0;34m\u001b[0m\u001b[0m\n",
      "\u001b[0;32m/anaconda3/lib/python3.7/site-packages/seaborn/axisgrid.py\u001b[0m in \u001b[0;36m__init__\u001b[0;34m(self, data, row, col, hue, col_wrap, sharex, sharey, height, aspect, palette, row_order, col_order, hue_order, hue_kws, dropna, legend_out, despine, margin_titles, xlim, ylim, subplot_kws, gridspec_kws, size)\u001b[0m\n\u001b[1;32m    243\u001b[0m             \u001b[0mrow_names\u001b[0m \u001b[0;34m=\u001b[0m \u001b[0;34m[\u001b[0m\u001b[0;34m]\u001b[0m\u001b[0;34m\u001b[0m\u001b[0m\n\u001b[1;32m    244\u001b[0m         \u001b[0;32melse\u001b[0m\u001b[0;34m:\u001b[0m\u001b[0;34m\u001b[0m\u001b[0m\n\u001b[0;32m--> 245\u001b[0;31m             \u001b[0mrow_names\u001b[0m \u001b[0;34m=\u001b[0m \u001b[0mutils\u001b[0m\u001b[0;34m.\u001b[0m\u001b[0mcategorical_order\u001b[0m\u001b[0;34m(\u001b[0m\u001b[0mdata\u001b[0m\u001b[0;34m[\u001b[0m\u001b[0mrow\u001b[0m\u001b[0;34m]\u001b[0m\u001b[0;34m,\u001b[0m \u001b[0mrow_order\u001b[0m\u001b[0;34m)\u001b[0m\u001b[0;34m\u001b[0m\u001b[0m\n\u001b[0m\u001b[1;32m    246\u001b[0m \u001b[0;34m\u001b[0m\u001b[0m\n\u001b[1;32m    247\u001b[0m         \u001b[0;32mif\u001b[0m \u001b[0mcol\u001b[0m \u001b[0;32mis\u001b[0m \u001b[0;32mNone\u001b[0m\u001b[0;34m:\u001b[0m\u001b[0;34m\u001b[0m\u001b[0m\n",
      "\u001b[0;32m/anaconda3/lib/python3.7/site-packages/pandas/core/frame.py\u001b[0m in \u001b[0;36m__getitem__\u001b[0;34m(self, key)\u001b[0m\n\u001b[1;32m   2686\u001b[0m             \u001b[0;32mreturn\u001b[0m \u001b[0mself\u001b[0m\u001b[0;34m.\u001b[0m\u001b[0m_getitem_multilevel\u001b[0m\u001b[0;34m(\u001b[0m\u001b[0mkey\u001b[0m\u001b[0;34m)\u001b[0m\u001b[0;34m\u001b[0m\u001b[0m\n\u001b[1;32m   2687\u001b[0m         \u001b[0;32melse\u001b[0m\u001b[0;34m:\u001b[0m\u001b[0;34m\u001b[0m\u001b[0m\n\u001b[0;32m-> 2688\u001b[0;31m             \u001b[0;32mreturn\u001b[0m \u001b[0mself\u001b[0m\u001b[0;34m.\u001b[0m\u001b[0m_getitem_column\u001b[0m\u001b[0;34m(\u001b[0m\u001b[0mkey\u001b[0m\u001b[0;34m)\u001b[0m\u001b[0;34m\u001b[0m\u001b[0m\n\u001b[0m\u001b[1;32m   2689\u001b[0m \u001b[0;34m\u001b[0m\u001b[0m\n\u001b[1;32m   2690\u001b[0m     \u001b[0;32mdef\u001b[0m \u001b[0m_getitem_column\u001b[0m\u001b[0;34m(\u001b[0m\u001b[0mself\u001b[0m\u001b[0;34m,\u001b[0m \u001b[0mkey\u001b[0m\u001b[0;34m)\u001b[0m\u001b[0;34m:\u001b[0m\u001b[0;34m\u001b[0m\u001b[0m\n",
      "\u001b[0;32m/anaconda3/lib/python3.7/site-packages/pandas/core/frame.py\u001b[0m in \u001b[0;36m_getitem_column\u001b[0;34m(self, key)\u001b[0m\n\u001b[1;32m   2693\u001b[0m         \u001b[0;31m# get column\u001b[0m\u001b[0;34m\u001b[0m\u001b[0;34m\u001b[0m\u001b[0m\n\u001b[1;32m   2694\u001b[0m         \u001b[0;32mif\u001b[0m \u001b[0mself\u001b[0m\u001b[0;34m.\u001b[0m\u001b[0mcolumns\u001b[0m\u001b[0;34m.\u001b[0m\u001b[0mis_unique\u001b[0m\u001b[0;34m:\u001b[0m\u001b[0;34m\u001b[0m\u001b[0m\n\u001b[0;32m-> 2695\u001b[0;31m             \u001b[0;32mreturn\u001b[0m \u001b[0mself\u001b[0m\u001b[0;34m.\u001b[0m\u001b[0m_get_item_cache\u001b[0m\u001b[0;34m(\u001b[0m\u001b[0mkey\u001b[0m\u001b[0;34m)\u001b[0m\u001b[0;34m\u001b[0m\u001b[0m\n\u001b[0m\u001b[1;32m   2696\u001b[0m \u001b[0;34m\u001b[0m\u001b[0m\n\u001b[1;32m   2697\u001b[0m         \u001b[0;31m# duplicate columns & possible reduce dimensionality\u001b[0m\u001b[0;34m\u001b[0m\u001b[0;34m\u001b[0m\u001b[0m\n",
      "\u001b[0;32m/anaconda3/lib/python3.7/site-packages/pandas/core/generic.py\u001b[0m in \u001b[0;36m_get_item_cache\u001b[0;34m(self, item)\u001b[0m\n\u001b[1;32m   2487\u001b[0m         \u001b[0mres\u001b[0m \u001b[0;34m=\u001b[0m \u001b[0mcache\u001b[0m\u001b[0;34m.\u001b[0m\u001b[0mget\u001b[0m\u001b[0;34m(\u001b[0m\u001b[0mitem\u001b[0m\u001b[0;34m)\u001b[0m\u001b[0;34m\u001b[0m\u001b[0m\n\u001b[1;32m   2488\u001b[0m         \u001b[0;32mif\u001b[0m \u001b[0mres\u001b[0m \u001b[0;32mis\u001b[0m \u001b[0;32mNone\u001b[0m\u001b[0;34m:\u001b[0m\u001b[0;34m\u001b[0m\u001b[0m\n\u001b[0;32m-> 2489\u001b[0;31m             \u001b[0mvalues\u001b[0m \u001b[0;34m=\u001b[0m \u001b[0mself\u001b[0m\u001b[0;34m.\u001b[0m\u001b[0m_data\u001b[0m\u001b[0;34m.\u001b[0m\u001b[0mget\u001b[0m\u001b[0;34m(\u001b[0m\u001b[0mitem\u001b[0m\u001b[0;34m)\u001b[0m\u001b[0;34m\u001b[0m\u001b[0m\n\u001b[0m\u001b[1;32m   2490\u001b[0m             \u001b[0mres\u001b[0m \u001b[0;34m=\u001b[0m \u001b[0mself\u001b[0m\u001b[0;34m.\u001b[0m\u001b[0m_box_item_values\u001b[0m\u001b[0;34m(\u001b[0m\u001b[0mitem\u001b[0m\u001b[0;34m,\u001b[0m \u001b[0mvalues\u001b[0m\u001b[0;34m)\u001b[0m\u001b[0;34m\u001b[0m\u001b[0m\n\u001b[1;32m   2491\u001b[0m             \u001b[0mcache\u001b[0m\u001b[0;34m[\u001b[0m\u001b[0mitem\u001b[0m\u001b[0;34m]\u001b[0m \u001b[0;34m=\u001b[0m \u001b[0mres\u001b[0m\u001b[0;34m\u001b[0m\u001b[0m\n",
      "\u001b[0;32m/anaconda3/lib/python3.7/site-packages/pandas/core/internals.py\u001b[0m in \u001b[0;36mget\u001b[0;34m(self, item, fastpath)\u001b[0m\n\u001b[1;32m   4113\u001b[0m \u001b[0;34m\u001b[0m\u001b[0m\n\u001b[1;32m   4114\u001b[0m             \u001b[0;32mif\u001b[0m \u001b[0;32mnot\u001b[0m \u001b[0misna\u001b[0m\u001b[0;34m(\u001b[0m\u001b[0mitem\u001b[0m\u001b[0;34m)\u001b[0m\u001b[0;34m:\u001b[0m\u001b[0;34m\u001b[0m\u001b[0m\n\u001b[0;32m-> 4115\u001b[0;31m                 \u001b[0mloc\u001b[0m \u001b[0;34m=\u001b[0m \u001b[0mself\u001b[0m\u001b[0;34m.\u001b[0m\u001b[0mitems\u001b[0m\u001b[0;34m.\u001b[0m\u001b[0mget_loc\u001b[0m\u001b[0;34m(\u001b[0m\u001b[0mitem\u001b[0m\u001b[0;34m)\u001b[0m\u001b[0;34m\u001b[0m\u001b[0m\n\u001b[0m\u001b[1;32m   4116\u001b[0m             \u001b[0;32melse\u001b[0m\u001b[0;34m:\u001b[0m\u001b[0;34m\u001b[0m\u001b[0m\n\u001b[1;32m   4117\u001b[0m                 \u001b[0mindexer\u001b[0m \u001b[0;34m=\u001b[0m \u001b[0mnp\u001b[0m\u001b[0;34m.\u001b[0m\u001b[0marange\u001b[0m\u001b[0;34m(\u001b[0m\u001b[0mlen\u001b[0m\u001b[0;34m(\u001b[0m\u001b[0mself\u001b[0m\u001b[0;34m.\u001b[0m\u001b[0mitems\u001b[0m\u001b[0;34m)\u001b[0m\u001b[0;34m)\u001b[0m\u001b[0;34m[\u001b[0m\u001b[0misna\u001b[0m\u001b[0;34m(\u001b[0m\u001b[0mself\u001b[0m\u001b[0;34m.\u001b[0m\u001b[0mitems\u001b[0m\u001b[0;34m)\u001b[0m\u001b[0;34m]\u001b[0m\u001b[0;34m\u001b[0m\u001b[0m\n",
      "\u001b[0;32m/anaconda3/lib/python3.7/site-packages/pandas/core/indexes/base.py\u001b[0m in \u001b[0;36mget_loc\u001b[0;34m(self, key, method, tolerance)\u001b[0m\n\u001b[1;32m   3078\u001b[0m                 \u001b[0;32mreturn\u001b[0m \u001b[0mself\u001b[0m\u001b[0;34m.\u001b[0m\u001b[0m_engine\u001b[0m\u001b[0;34m.\u001b[0m\u001b[0mget_loc\u001b[0m\u001b[0;34m(\u001b[0m\u001b[0mkey\u001b[0m\u001b[0;34m)\u001b[0m\u001b[0;34m\u001b[0m\u001b[0m\n\u001b[1;32m   3079\u001b[0m             \u001b[0;32mexcept\u001b[0m \u001b[0mKeyError\u001b[0m\u001b[0;34m:\u001b[0m\u001b[0;34m\u001b[0m\u001b[0m\n\u001b[0;32m-> 3080\u001b[0;31m                 \u001b[0;32mreturn\u001b[0m \u001b[0mself\u001b[0m\u001b[0;34m.\u001b[0m\u001b[0m_engine\u001b[0m\u001b[0;34m.\u001b[0m\u001b[0mget_loc\u001b[0m\u001b[0;34m(\u001b[0m\u001b[0mself\u001b[0m\u001b[0;34m.\u001b[0m\u001b[0m_maybe_cast_indexer\u001b[0m\u001b[0;34m(\u001b[0m\u001b[0mkey\u001b[0m\u001b[0;34m)\u001b[0m\u001b[0;34m)\u001b[0m\u001b[0;34m\u001b[0m\u001b[0m\n\u001b[0m\u001b[1;32m   3081\u001b[0m \u001b[0;34m\u001b[0m\u001b[0m\n\u001b[1;32m   3082\u001b[0m         \u001b[0mindexer\u001b[0m \u001b[0;34m=\u001b[0m \u001b[0mself\u001b[0m\u001b[0;34m.\u001b[0m\u001b[0mget_indexer\u001b[0m\u001b[0;34m(\u001b[0m\u001b[0;34m[\u001b[0m\u001b[0mkey\u001b[0m\u001b[0;34m]\u001b[0m\u001b[0;34m,\u001b[0m \u001b[0mmethod\u001b[0m\u001b[0;34m=\u001b[0m\u001b[0mmethod\u001b[0m\u001b[0;34m,\u001b[0m \u001b[0mtolerance\u001b[0m\u001b[0;34m=\u001b[0m\u001b[0mtolerance\u001b[0m\u001b[0;34m)\u001b[0m\u001b[0;34m\u001b[0m\u001b[0m\n",
      "\u001b[0;32mpandas/_libs/index.pyx\u001b[0m in \u001b[0;36mpandas._libs.index.IndexEngine.get_loc\u001b[0;34m()\u001b[0m\n",
      "\u001b[0;32mpandas/_libs/index.pyx\u001b[0m in \u001b[0;36mpandas._libs.index.IndexEngine.get_loc\u001b[0;34m()\u001b[0m\n",
      "\u001b[0;32mpandas/_libs/hashtable_class_helper.pxi\u001b[0m in \u001b[0;36mpandas._libs.hashtable.PyObjectHashTable.get_item\u001b[0;34m()\u001b[0m\n",
      "\u001b[0;32mpandas/_libs/hashtable_class_helper.pxi\u001b[0m in \u001b[0;36mpandas._libs.hashtable.PyObjectHashTable.get_item\u001b[0;34m()\u001b[0m\n",
      "\u001b[0;31mKeyError\u001b[0m: 'Class_col_2(Target)'"
     ]
    }
   ],
   "source": [
    "Grid = sns.FacetGrid(df, col=\"Class_col_1\", row=\"Class_col_2(Target)\", margin_titles=True)\n",
    "Grid.map(plt.hist,'Quantative_col', bins = 15);"
   ]
  },
  {
   "cell_type": "code",
   "execution_count": null,
   "metadata": {},
   "outputs": [],
   "source": []
  },
  {
   "cell_type": "code",
   "execution_count": null,
   "metadata": {},
   "outputs": [],
   "source": []
  }
 ],
 "metadata": {
  "kernelspec": {
   "display_name": "Python 3",
   "language": "python",
   "name": "python3"
  },
  "language_info": {
   "codemirror_mode": {
    "name": "ipython",
    "version": 3
   },
   "file_extension": ".py",
   "mimetype": "text/x-python",
   "name": "python",
   "nbconvert_exporter": "python",
   "pygments_lexer": "ipython3",
   "version": "3.7.0"
  }
 },
 "nbformat": 4,
 "nbformat_minor": 2
}
